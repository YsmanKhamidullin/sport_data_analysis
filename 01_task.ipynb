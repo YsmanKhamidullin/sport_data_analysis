{
 "nbformat": 4,
 "nbformat_minor": 5,
 "metadata": {
  "kernelspec": {
   "display_name": "Python 3",
   "language": "python",
   "name": "python3"
  },
  "language_info": {
   "codemirror_mode": {
    "name": "ipython",
    "version": 3
   },
   "file_extension": ".py",
   "mimetype": "text/x-python",
   "name": "python",
   "nbconvert_exporter": "python",
   "pygments_lexer": "ipython3",
   "version": "3.6.9"
  },
  "colab": {
   "provenance": []
  }
 },
 "cells": [
  {
   "cell_type": "code",
   "metadata": {
    "id": "medieval-detail",
    "ExecuteTime": {
     "end_time": "2024-02-28T11:48:35.983401Z",
     "start_time": "2024-02-28T11:48:35.779703700Z"
    }
   },
   "source": [
    "import numpy\n",
    "import numpy as np"
   ],
   "id": "medieval-detail",
   "execution_count": 2,
   "outputs": []
  },
  {
   "cell_type": "markdown",
   "metadata": {
    "id": "abstract-istanbul"
   },
   "source": [
    "1. Задание\n",
    "- проверьте тип объекта python_list\n",
    "- если это не numpy ndarray, то преобразуйте к нему\n",
    "- проверьте, что на выходе вы получили объект python_list желаемого типа"
   ],
   "id": "abstract-istanbul"
  },
  {
   "cell_type": "code",
   "metadata": {
    "id": "entertaining-automation",
    "ExecuteTime": {
     "end_time": "2024-02-28T11:48:36.001167500Z",
     "start_time": "2024-02-28T11:48:35.967909100Z"
    }
   },
   "source": [
    "python_list = [1, 12, 13, 45, 76, 45, 98, 0]\n",
    "print(type(python_list))\n",
    "python_list = np.array(python_list) if not isinstance(python_list, np.ndarray) else python_list\n",
    "print(type(python_list))"
   ],
   "id": "entertaining-automation",
   "execution_count": 3,
   "outputs": [
    {
     "name": "stdout",
     "output_type": "stream",
     "text": [
      "<class 'list'>\n",
      "<class 'numpy.ndarray'>\n"
     ]
    }
   ]
  },
  {
   "cell_type": "markdown",
   "metadata": {
    "id": "loose-tobago"
   },
   "source": [
    "2. Задание\n",
    "- создайте одномерный массив numpy из 10 элементов заполненный числом 1.5"
   ],
   "id": "loose-tobago"
  },
  {
   "cell_type": "code",
   "metadata": {
    "id": "included-polymer",
    "ExecuteTime": {
     "end_time": "2024-02-28T11:48:36.002165300Z",
     "start_time": "2024-02-28T11:48:35.975468900Z"
    }
   },
   "source": [
    "z = np.full(10, 1.5)\n",
    "print(z)"
   ],
   "id": "included-polymer",
   "execution_count": 4,
   "outputs": [
    {
     "name": "stdout",
     "output_type": "stream",
     "text": [
      "[1.5 1.5 1.5 1.5 1.5 1.5 1.5 1.5 1.5 1.5]\n"
     ]
    }
   ]
  },
  {
   "cell_type": "markdown",
   "metadata": {
    "id": "threatened-theme"
   },
   "source": [
    "3. Задание\n",
    "- создайте двумерный массив numpy из 25 элементов заполненный числом 0"
   ],
   "id": "threatened-theme"
  },
  {
   "cell_type": "code",
   "metadata": {
    "id": "alert-endorsement",
    "ExecuteTime": {
     "end_time": "2024-02-28T11:48:36.020791200Z",
     "start_time": "2024-02-28T11:48:35.983401Z"
    }
   },
   "source": [
    "z = np.zeros((5, 5))\n",
    "print(z)"
   ],
   "id": "alert-endorsement",
   "execution_count": 5,
   "outputs": [
    {
     "name": "stdout",
     "output_type": "stream",
     "text": [
      "[[0. 0. 0. 0. 0.]\n",
      " [0. 0. 0. 0. 0.]\n",
      " [0. 0. 0. 0. 0.]\n",
      " [0. 0. 0. 0. 0.]\n",
      " [0. 0. 0. 0. 0.]]\n"
     ]
    }
   ]
  },
  {
   "cell_type": "markdown",
   "metadata": {
    "id": "federal-blackberry"
   },
   "source": [
    "4. Задание\n",
    "- создайте одномерный массив numpy из 12 элементов заполненный числом 1"
   ],
   "id": "federal-blackberry"
  },
  {
   "cell_type": "code",
   "metadata": {
    "id": "static-filing",
    "ExecuteTime": {
     "end_time": "2024-02-28T11:48:36.021793600Z",
     "start_time": "2024-02-28T11:48:35.989686700Z"
    }
   },
   "source": [
    "ones = np.full(12, 1)\n",
    "print(ones)"
   ],
   "id": "static-filing",
   "execution_count": 6,
   "outputs": [
    {
     "name": "stdout",
     "output_type": "stream",
     "text": [
      "[1 1 1 1 1 1 1 1 1 1 1 1]\n"
     ]
    }
   ]
  },
  {
   "cell_type": "markdown",
   "metadata": {
    "id": "whole-chassis"
   },
   "source": [
    "5. Задание\n",
    "- преобразуйте массив из предыдущего задания к матрице 3 на 4\n",
    "- выведите размерность полученного массива"
   ],
   "id": "whole-chassis"
  },
  {
   "cell_type": "code",
   "metadata": {
    "id": "outstanding-deviation",
    "ExecuteTime": {
     "end_time": "2024-02-28T11:48:36.142818600Z",
     "start_time": "2024-02-28T11:48:35.995652800Z"
    }
   },
   "source": [
    "ones = ones.reshape(3, 4)\n",
    "print(ones.shape)"
   ],
   "id": "outstanding-deviation",
   "execution_count": 7,
   "outputs": [
    {
     "name": "stdout",
     "output_type": "stream",
     "text": [
      "(3, 4)\n"
     ]
    }
   ]
  },
  {
   "cell_type": "markdown",
   "metadata": {
    "id": "cubic-noise"
   },
   "source": [
    "6. Задание\n",
    "- создайте матрицу 4 на 5 заполненную числами от 1 до 20\n",
    "- замените элемент в 3-й строке 4-м столбце на -99"
   ],
   "id": "cubic-noise"
  },
  {
   "cell_type": "code",
   "metadata": {
    "id": "foster-memory",
    "ExecuteTime": {
     "end_time": "2024-02-28T11:48:36.165278900Z",
     "start_time": "2024-02-28T11:48:36.011792500Z"
    }
   },
   "source": [
    "Z = np.arange(1, 21).reshape(4, 5)\n",
    "print(Z)\n",
    "Z[2, 3] = -99\n",
    "print(Z)"
   ],
   "id": "foster-memory",
   "execution_count": 8,
   "outputs": [
    {
     "name": "stdout",
     "output_type": "stream",
     "text": [
      "[[ 1  2  3  4  5]\n",
      " [ 6  7  8  9 10]\n",
      " [11 12 13 14 15]\n",
      " [16 17 18 19 20]]\n",
      "[[  1   2   3   4   5]\n",
      " [  6   7   8   9  10]\n",
      " [ 11  12  13 -99  15]\n",
      " [ 16  17  18  19  20]]\n"
     ]
    }
   ]
  },
  {
   "cell_type": "markdown",
   "metadata": {
    "id": "helpful-table"
   },
   "source": [
    "7. Задание\n",
    "- создайте вектор длинной 15 со случайными целыми числами в диапазоне от -10 до 10\n",
    "- сделайте реверс вектора"
   ],
   "id": "helpful-table"
  },
  {
   "cell_type": "code",
   "metadata": {
    "id": "magnetic-leone",
    "ExecuteTime": {
     "end_time": "2024-02-28T11:48:36.201832400Z",
     "start_time": "2024-02-28T11:48:36.154300900Z"
    }
   },
   "source": [
    "first = np.random.randint(-10, 11, 15)\n",
    "print(first)\n",
    "second = np.flip(first)\n",
    "print(second)"
   ],
   "id": "magnetic-leone",
   "execution_count": 9,
   "outputs": [
    {
     "name": "stdout",
     "output_type": "stream",
     "text": [
      "[  7   6 -10   4   4  -4   2   1  -3   0   0  -3  -5  -3   2]\n",
      "[  2  -3  -5  -3   0   0  -3   1   2  -4   4   4 -10   6   7]\n"
     ]
    }
   ]
  },
  {
   "cell_type": "markdown",
   "metadata": {
    "id": "executed-september"
   },
   "source": [
    "8. Задание\n",
    "- создайте матрицу 5 на 5 со случайными целыми числами в диапазоне от -15 до 15\n",
    "- замените отрицательные элементы на их квадраты"
   ],
   "id": "executed-september"
  },
  {
   "cell_type": "code",
   "metadata": {
    "id": "pharmaceutical-sigma",
    "ExecuteTime": {
     "end_time": "2024-02-28T11:48:36.266840200Z",
     "start_time": "2024-02-28T11:48:36.192281500Z"
    }
   },
   "source": [
    "first = np.random.randint(-15, 16, (5, 5))\n",
    "print(first)\n",
    "first[first < 0] = first[first < 0] ** 2\n",
    "print(first)"
   ],
   "id": "pharmaceutical-sigma",
   "execution_count": 10,
   "outputs": [
    {
     "name": "stdout",
     "output_type": "stream",
     "text": [
      "[[-14  10  -6   9  10]\n",
      " [ 10  -9   4  -3   8]\n",
      " [-13   8   4 -12   7]\n",
      " [  6   7 -15  -6 -12]\n",
      " [  7  11   9   2  -3]]\n",
      "[[196  10  36   9  10]\n",
      " [ 10  81   4   9   8]\n",
      " [169   8   4 144   7]\n",
      " [  6   7 225  36 144]\n",
      " [  7  11   9   2   9]]\n"
     ]
    }
   ]
  },
  {
   "cell_type": "markdown",
   "metadata": {
    "id": "floral-difference"
   },
   "source": [
    "9. Задание\n",
    "- создайте матрицу 3 на 5 со случайными целыми числами в диапазоне от -15 до 15\n",
    "- найдите максимум и минимум\n",
    "- найдите среднее по столбцам\n",
    "- найдите среднее по строкам"
   ],
   "id": "floral-difference"
  },
  {
   "cell_type": "code",
   "metadata": {
    "id": "saving-conference",
    "ExecuteTime": {
     "end_time": "2024-02-28T11:48:36.306101500Z",
     "start_time": "2024-02-28T11:48:36.271851300Z"
    }
   },
   "source": [
    "first = np.random.randint(-15, 16, (3, 5))\n",
    "print(np.max(first), np.min(first))\n",
    "print(np.mean(first, axis=0))\n",
    "print(np.mean(first, axis=1))"
   ],
   "id": "saving-conference",
   "execution_count": 11,
   "outputs": [
    {
     "name": "stdout",
     "output_type": "stream",
     "text": [
      "14 -15\n",
      "[-1.66666667  6.33333333 -0.66666667 -6.         -7.66666667]\n",
      "[-9.   1.4  1.8]\n"
     ]
    }
   ]
  },
  {
   "cell_type": "markdown",
   "metadata": {
    "id": "diagnostic-departure"
   },
   "source": [
    "10. Задание\n",
    "- даны две матрицы\n",
    "- убедитесь, что их можно пермножить\n",
    "- произведите операцию умножения матриц, если это возможно, иначе выведите ошибку"
   ],
   "id": "diagnostic-departure"
  },
  {
   "cell_type": "code",
   "metadata": {
    "id": "olympic-qatar",
    "ExecuteTime": {
     "end_time": "2024-02-28T11:48:36.364197700Z",
     "start_time": "2024-02-28T11:48:36.294570700Z"
    }
   },
   "source": [
    "a = np.random.randint(-10, 10, (2, 5))\n",
    "first_axis = np.random.randint(4, 6)\n",
    "b = np.random.randint(-10, 10, (first_axis, 3))\n",
    "if a.shape[1] == b.shape[0]:\n",
    "    print(a @ b)\n",
    "else:\n",
    "    print(\"Error matrix dot\")"
   ],
   "id": "olympic-qatar",
   "execution_count": 12,
   "outputs": [
    {
     "name": "stdout",
     "output_type": "stream",
     "text": [
      "[[  15  -80  107]\n",
      " [ -42 -127  -56]]\n"
     ]
    }
   ]
  },
  {
   "cell_type": "markdown",
   "metadata": {
    "id": "governmental-austin"
   },
   "source": [
    "11. Задание\n",
    "- создайте матрицу 5 на 5 заполненную равномерным распределением с диапазоно 2-12\n",
    "- заполните все элементы ниже главной диагонали нулями"
   ],
   "id": "governmental-austin"
  },
  {
   "cell_type": "code",
   "metadata": {
    "id": "suffering-mauritius",
    "ExecuteTime": {
     "end_time": "2024-02-28T11:48:36.405550800Z",
     "start_time": "2024-02-28T11:48:36.368190800Z"
    }
   },
   "source": [
    "matrix = np.random.uniform(2, 12, (5, 5))\n",
    "matrix = np.tril(matrix, 0)\n",
    "print(matrix)"
   ],
   "id": "suffering-mauritius",
   "execution_count": 13,
   "outputs": [
    {
     "name": "stdout",
     "output_type": "stream",
     "text": [
      "[[ 6.58835396  0.          0.          0.          0.        ]\n",
      " [10.28450267  4.29353724  0.          0.          0.        ]\n",
      " [ 9.62801522 10.93960739  5.70162106  0.          0.        ]\n",
      " [10.78562615  9.09245076 10.38314796  7.01911029  0.        ]\n",
      " [ 5.07208254 11.1691097   9.66760682  4.59489819  7.75685223]]\n"
     ]
    }
   ]
  },
  {
   "cell_type": "markdown",
   "metadata": {
    "id": "altered-baghdad"
   },
   "source": [
    "12. Задание\n",
    "- создайте матрицу 5 на 5 заполненную нормальным распределением с парметрами среднее 10 и отклонение 2\n",
    "- заполните все элементы на главной диагонали нулями"
   ],
   "id": "altered-baghdad"
  },
  {
   "cell_type": "code",
   "metadata": {
    "id": "refined-stuff",
    "ExecuteTime": {
     "end_time": "2024-02-28T11:48:36.471602800Z",
     "start_time": "2024-02-28T11:48:36.389576700Z"
    }
   },
   "source": [
    "matrix = np.random.normal(10, 2, (5, 5))\n",
    "np.fill_diagonal(matrix, 0)\n",
    "\n",
    "print(matrix)"
   ],
   "id": "refined-stuff",
   "execution_count": 14,
   "outputs": [
    {
     "name": "stdout",
     "output_type": "stream",
     "text": [
      "[[ 0.         11.05033088 10.87955378  9.77453565 12.12581654]\n",
      " [ 8.31218263  0.         12.1111942  11.55229277 10.23897767]\n",
      " [11.62498205 11.66799705  0.          9.89014058 10.89963831]\n",
      " [ 9.62736428 14.40633634  8.47054328  0.         10.67115755]\n",
      " [11.34381505 13.14599705 12.09590132 10.60206471  0.        ]]\n"
     ]
    }
   ]
  },
  {
   "cell_type": "markdown",
   "metadata": {
    "id": "quiet-complement"
   },
   "source": [
    "13. Задание\n",
    "- дано два массива, проверить одинаковы ли они"
   ],
   "id": "quiet-complement"
  },
  {
   "cell_type": "code",
   "metadata": {
    "id": "french-fighter",
    "ExecuteTime": {
     "end_time": "2024-02-28T11:48:52.827174500Z",
     "start_time": "2024-02-28T11:48:52.815522400Z"
    }
   },
   "source": [
    "a = np.random.randint(0, 2, 5)\n",
    "print(a)\n",
    "b = np.random.randint(0, 2, 5)\n",
    "print(b)\n",
    "equal = np.array_equal(a, b)\n",
    "print(equal)"
   ],
   "id": "french-fighter",
   "execution_count": 22,
   "outputs": [
    {
     "name": "stdout",
     "output_type": "stream",
     "text": [
      "[1 1 1 1 0]\n",
      "[1 0 0 0 0]\n",
      "False\n"
     ]
    }
   ]
  },
  {
   "cell_type": "markdown",
   "metadata": {
    "id": "color-amplifier"
   },
   "source": [
    "14. Задание\n",
    "- сгенерируйте матрицу случайного размера:\n",
    " - строк от 3 до 7\n",
    " - столбцов от 2 до 12\n",
    "- сгенерируйте число N - размер выборки так, чтобы оно не превышало половину количества элементов сгенерированной матрицы, но было больше 0\n",
    "- сделайте случайную выборку N элементов"
   ],
   "id": "color-amplifier"
  },
  {
   "cell_type": "code",
   "metadata": {
    "id": "close-daisy",
    "ExecuteTime": {
     "end_time": "2024-02-28T11:51:03.854496800Z",
     "start_time": "2024-02-28T11:51:03.831495100Z"
    }
   },
   "source": [
    "r, c = np.random.randint(3, 8), np.random.randint(2, 13)\n",
    "a = np.random.rand(r, c)\n",
    "print(a)\n",
    "N = np.random.randint(1, a.size // 2 + 1)\n",
    "print(N)\n",
    "sample = np.random.choice(a.flatten(), N)\n",
    "print(sample)"
   ],
   "id": "close-daisy",
   "execution_count": 31,
   "outputs": [
    {
     "name": "stdout",
     "output_type": "stream",
     "text": [
      "[[0.32107699 0.98734361 0.67452306 0.79724233 0.83133844 0.50631717\n",
      "  0.7478822 ]\n",
      " [0.75383048 0.70353859 0.77217988 0.69684631 0.1547144  0.78763322\n",
      "  0.4222616 ]\n",
      " [0.94079578 0.47353341 0.74283244 0.23974569 0.66430481 0.82736345\n",
      "  0.8631295 ]\n",
      " [0.84990246 0.30062649 0.74882543 0.04943033 0.12623932 0.76379232\n",
      "  0.20555725]\n",
      " [0.83881732 0.62075134 0.88382117 0.25933701 0.96414221 0.45516779\n",
      "  0.45854117]\n",
      " [0.16847369 0.87496477 0.70666907 0.16440079 0.77567645 0.64938603\n",
      "  0.74623465]\n",
      " [0.47792047 0.39302493 0.30303154 0.55459015 0.69379019 0.94363943\n",
      "  0.92131302]]\n",
      "22\n",
      "[0.77217988 0.45516779 0.94363943 0.45516779 0.83881732 0.70353859\n",
      " 0.87496477 0.77567645 0.45516779 0.78763322 0.64938603 0.67452306\n",
      " 0.83133844 0.25933701 0.50631717 0.67452306 0.83881732 0.1547144\n",
      " 0.50631717 0.88382117 0.1547144  0.98734361]\n"
     ]
    }
   ]
  },
  {
   "cell_type": "markdown",
   "metadata": {
    "id": "patent-african"
   },
   "source": [
    "15. Задание\n",
    "- дан вектор, проверить есть в нем Nan\n",
    "- проверить есть в нем знак бесконечности\n",
    "- заполнить их нулями"
   ],
   "id": "patent-african"
  },
  {
   "cell_type": "code",
   "metadata": {
    "id": "taken-fabric",
    "ExecuteTime": {
     "end_time": "2024-02-28T11:53:46.088138100Z",
     "start_time": "2024-02-28T11:53:46.076041400Z"
    }
   },
   "source": [
    "a = np.array([1, np.NaN, np.Inf], float)\n",
    "print(a)\n",
    "\n",
    "nan_mask = np.isnan(a)\n",
    "if np.any(nan_mask):\n",
    "    a[np.isnan(a)] = 0\n",
    "\n",
    "inf_mask = np.isinf(a)\n",
    "if np.any(inf_mask):\n",
    "    a[np.isinf(a)] = 0\n",
    "print(a)"
   ],
   "id": "taken-fabric",
   "execution_count": 39,
   "outputs": [
    {
     "name": "stdout",
     "output_type": "stream",
     "text": [
      "[ 1. nan inf]\n",
      "[1. 0. 0.]\n"
     ]
    }
   ]
  },
  {
   "cell_type": "markdown",
   "metadata": {
    "id": "analyzed-ireland"
   },
   "source": [
    "16. Задание\n",
    "- сгенерировать массив с произвольным числом осей\n",
    "- определить сколько у него осей"
   ],
   "id": "analyzed-ireland"
  },
  {
   "cell_type": "code",
   "metadata": {
    "id": "imposed-digest",
    "ExecuteTime": {
     "end_time": "2024-02-28T12:17:16.287230200Z",
     "start_time": "2024-02-28T12:17:16.283721800Z"
    }
   },
   "source": [
    "axis = np.random.randint(1, 5)\n",
    "shape = np.random.randint(0, 1, size=axis)\n",
    "random_array = np.random.random(size=shape)\n",
    "print(matrix.ndim)"
   ],
   "id": "imposed-digest",
   "execution_count": 60,
   "outputs": [
    {
     "name": "stdout",
     "output_type": "stream",
     "text": [
      "4\n"
     ]
    }
   ]
  },
  {
   "cell_type": "markdown",
   "metadata": {
    "id": "regulation-colleague"
   },
   "source": [
    "17. Задание\n",
    "- сгенерируйте матрицу 10 на 3 с нормальным распределением, среднее 50, отклонение 10\n",
    "- найдите индексы максимальных элементов в каждой строке\n",
    "- найдите сами элементы"
   ],
   "id": "regulation-colleague"
  },
  {
   "cell_type": "code",
   "metadata": {
    "id": "concerned-anthropology",
    "ExecuteTime": {
     "end_time": "2024-02-28T12:18:14.664564400Z",
     "start_time": "2024-02-28T12:18:14.628708400Z"
    }
   },
   "source": [
    "matrix = np.random.normal(50, 10, (10, 3))\n",
    "print(matrix)\n",
    "indexes = matrix.argmax(axis=1)\n",
    "print(indexes)\n",
    "max_elements = matrix[np.arange(matrix.shape[0]), indexes]\n",
    "print(max_elements)"
   ],
   "id": "concerned-anthropology",
   "execution_count": 62,
   "outputs": [
    {
     "name": "stdout",
     "output_type": "stream",
     "text": [
      "[[52.30263205 57.43518313 51.70655415]\n",
      " [39.2624626  60.19316968 55.24248551]\n",
      " [64.22228898 32.73075794 53.6170146 ]\n",
      " [69.72798374 47.17372814 44.86073739]\n",
      " [42.86127818 61.16152711 50.46477446]\n",
      " [47.4691909  38.1281127  44.76796678]\n",
      " [46.62906183 44.58202813 51.42572359]\n",
      " [41.58573676 57.50337684 70.11400148]\n",
      " [43.99702194 41.04941884 39.48610137]\n",
      " [65.08492823 35.78947804 60.73980306]]\n",
      "[1 1 0 0 1 0 2 2 0 0]\n",
      "[57.43518313 60.19316968 64.22228898 69.72798374 61.16152711 47.4691909\n",
      " 51.42572359 70.11400148 43.99702194 65.08492823]\n"
     ]
    }
   ]
  },
  {
   "cell_type": "markdown",
   "source": [
    "18. Задача теорвер. Реализовать решение методом Монте Карло. 1 и 2 подзадачи полностью из 3-ей выбрать любой пункт\n",
    "Кто сможет обойтись без циклов для создания серии экспериментов - отдельный плюсик!!!"
   ],
   "metadata": {
    "id": "7UjdpXVukzPG"
   },
   "id": "7UjdpXVukzPG"
  },
  {
   "cell_type": "markdown",
   "source": [
    "1. Бросаем два игральных кубика: красный и синий. Определите вероятность того, что цифры на красном и синем кубиках совпадут.\n",
    "2. В этом же эксперименте с кубиками нужно найти наиболее вероятную сумму цифр на кубиках.\n",
    "3. Наудачу выбирается одно число от 1 до 20. Считая все числа равновозможными, определите вероятность того, что выбранное число:\n",
    "* чётно;\n",
    "* делится на 3;\n",
    "* делится и на 2, и на 3;\n",
    "* не делится ни на 2, ни на 3;\n",
    "* имеет сумму цифр 9;\n",
    "* имеет сумму цифр, делящуюся на 3."
   ],
   "metadata": {
    "id": "Ep-CKckAk5V_"
   },
   "id": "Ep-CKckAk5V_"
  },
  {
   "cell_type": "code",
   "outputs": [
    {
     "name": "stdout",
     "output_type": "stream",
     "text": [
      "Задача 1: Вероятность что цифры на красном и синем кубиках совпали: 0.165836\n",
      "Задача 2: Наиболее вероятная сумма цифр на кубиках: 7\n",
      "Задача 3: Вероятность, что выбранное число:\n",
      "\tчётно: 0.500471\n",
      "\tделится на 3: 0.300078\n",
      "\tделится и на 2, и на 3: 0.150397\n",
      "\tне делится ни на 2, ни на 3: 0.349848\n",
      "\tимеет сумму цифр 9: 0.100169\n",
      "\tимеет сумму цифр, делящуюся на 3: 0.300078\n"
     ]
    }
   ],
   "source": [
    "# Задача 1:\n",
    "red_die = np.random.randint(1, 7, size=1000000)\n",
    "blue_die = np.random.randint(1, 7, size=1000000)\n",
    "matching_numbers = np.sum(red_die == blue_die)\n",
    "probability_matching = matching_numbers / 1000000\n",
    "print(\"Задача 1: Вероятность что цифры на красном и синем кубиках совпали:\", probability_matching)\n",
    "\n",
    "# Задача 2:\n",
    "sum_of_numbers = red_die + blue_die\n",
    "most_common_sum = np.argmax(np.bincount(sum_of_numbers))\n",
    "print(\"Задача 2: Наиболее вероятная сумма цифр на кубиках:\", most_common_sum)\n",
    "\n",
    "# Задача 3:\n",
    "random_number = np.random.randint(1, 21, size=1000000)\n",
    "even_probability = np.mean(random_number % 2 == 0)\n",
    "divisible_by_3_probability = np.mean(random_number % 3 == 0)\n",
    "divisible_by_2_and_3_probability = np.mean((random_number % 2 == 0) & (random_number % 3 == 0))\n",
    "not_divisible_by_2_or_3_probability = np.mean((random_number % 2 != 0) & (random_number % 3 != 0))\n",
    "sum_of_digits_9_probability = np.mean((random_number==9) | (random_number==18))\n",
    "sum_of_digits_divisible_by_3_probability = np.mean(random_number%3==0)\n",
    "\n",
    "print(\"Задача 3: Вероятность, что выбранное число:\")\n",
    "print(\"\\tчётно:\", even_probability)\n",
    "print(\"\\tделится на 3:\", divisible_by_3_probability)\n",
    "print(\"\\tделится и на 2, и на 3:\", divisible_by_2_and_3_probability)\n",
    "print(\"\\tне делится ни на 2, ни на 3:\", not_divisible_by_2_or_3_probability)\n",
    "print(\"\\tимеет сумму цифр 9:\", sum_of_digits_9_probability)\n",
    "print(\"\\tимеет сумму цифр, делящуюся на 3:\", sum_of_digits_divisible_by_3_probability)\n"
   ],
   "metadata": {
    "collapsed": false,
    "ExecuteTime": {
     "end_time": "2024-02-28T12:36:26.532740700Z",
     "start_time": "2024-02-28T12:36:26.431169300Z"
    }
   },
   "id": "d1525610e55c7688",
   "execution_count": 93
  },
  {
   "cell_type": "code",
   "outputs": [],
   "source": [],
   "metadata": {
    "collapsed": false
   },
   "id": "300cc39c657c2762"
  }
 ]
}
