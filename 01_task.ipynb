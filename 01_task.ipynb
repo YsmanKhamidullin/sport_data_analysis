{
 "nbformat": 4,
 "nbformat_minor": 5,
 "metadata": {
  "kernelspec": {
   "display_name": "Python 3",
   "language": "python",
   "name": "python3"
  },
  "language_info": {
   "codemirror_mode": {
    "name": "ipython",
    "version": 3
   },
   "file_extension": ".py",
   "mimetype": "text/x-python",
   "name": "python",
   "nbconvert_exporter": "python",
   "pygments_lexer": "ipython3",
   "version": "3.6.9"
  },
  "colab": {
   "provenance": []
  }
 },
 "cells": [
  {
   "cell_type": "code",
   "metadata": {
    "id": "medieval-detail",
    "ExecuteTime": {
     "end_time": "2024-02-28T12:37:40.570479400Z",
     "start_time": "2024-02-28T12:37:40.478465500Z"
    }
   },
   "source": [
    "import numpy\n",
    "import numpy as np"
   ],
   "id": "medieval-detail",
   "execution_count": 94,
   "outputs": []
  },
  {
   "cell_type": "markdown",
   "metadata": {
    "id": "abstract-istanbul"
   },
   "source": [
    "1. Задание\n",
    "- проверьте тип объекта python_list\n",
    "- если это не numpy ndarray, то преобразуйте к нему\n",
    "- проверьте, что на выходе вы получили объект python_list желаемого типа"
   ],
   "id": "abstract-istanbul"
  },
  {
   "cell_type": "code",
   "metadata": {
    "id": "entertaining-automation",
    "ExecuteTime": {
     "end_time": "2024-02-28T12:37:40.591744600Z",
     "start_time": "2024-02-28T12:37:40.573746200Z"
    }
   },
   "source": [
    "python_list = [1, 12, 13, 45, 76, 45, 98, 0]\n",
    "print(type(python_list))\n",
    "python_list = np.array(python_list) if not isinstance(python_list, np.ndarray) else python_list\n",
    "print(type(python_list))"
   ],
   "id": "entertaining-automation",
   "execution_count": 95,
   "outputs": [
    {
     "name": "stdout",
     "output_type": "stream",
     "text": [
      "<class 'list'>\n",
      "<class 'numpy.ndarray'>\n"
     ]
    }
   ]
  },
  {
   "cell_type": "markdown",
   "metadata": {
    "id": "loose-tobago"
   },
   "source": [
    "2. Задание\n",
    "- создайте одномерный массив numpy из 10 элементов заполненный числом 1.5"
   ],
   "id": "loose-tobago"
  },
  {
   "cell_type": "code",
   "metadata": {
    "id": "included-polymer",
    "ExecuteTime": {
     "end_time": "2024-02-28T12:37:40.613240900Z",
     "start_time": "2024-02-28T12:37:40.594719400Z"
    }
   },
   "source": [
    "z = np.full(10, 1.5)\n",
    "print(z)"
   ],
   "id": "included-polymer",
   "execution_count": 96,
   "outputs": [
    {
     "name": "stdout",
     "output_type": "stream",
     "text": [
      "[1.5 1.5 1.5 1.5 1.5 1.5 1.5 1.5 1.5 1.5]\n"
     ]
    }
   ]
  },
  {
   "cell_type": "markdown",
   "metadata": {
    "id": "threatened-theme"
   },
   "source": [
    "3. Задание\n",
    "- создайте двумерный массив numpy из 25 элементов заполненный числом 0"
   ],
   "id": "threatened-theme"
  },
  {
   "cell_type": "code",
   "metadata": {
    "id": "alert-endorsement",
    "ExecuteTime": {
     "end_time": "2024-02-28T12:37:40.645913600Z",
     "start_time": "2024-02-28T12:37:40.616235500Z"
    }
   },
   "source": [
    "z = np.zeros((5, 5))\n",
    "print(z)"
   ],
   "id": "alert-endorsement",
   "execution_count": 97,
   "outputs": [
    {
     "name": "stdout",
     "output_type": "stream",
     "text": [
      "[[0. 0. 0. 0. 0.]\n",
      " [0. 0. 0. 0. 0.]\n",
      " [0. 0. 0. 0. 0.]\n",
      " [0. 0. 0. 0. 0.]\n",
      " [0. 0. 0. 0. 0.]]\n"
     ]
    }
   ]
  },
  {
   "cell_type": "markdown",
   "metadata": {
    "id": "federal-blackberry"
   },
   "source": [
    "4. Задание\n",
    "- создайте одномерный массив numpy из 12 элементов заполненный числом 1"
   ],
   "id": "federal-blackberry"
  },
  {
   "cell_type": "code",
   "metadata": {
    "id": "static-filing",
    "ExecuteTime": {
     "end_time": "2024-02-28T12:37:40.690126900Z",
     "start_time": "2024-02-28T12:37:40.648913500Z"
    }
   },
   "source": [
    "ones = np.full(12, 1)\n",
    "print(ones)"
   ],
   "id": "static-filing",
   "execution_count": 98,
   "outputs": [
    {
     "name": "stdout",
     "output_type": "stream",
     "text": [
      "[1 1 1 1 1 1 1 1 1 1 1 1]\n"
     ]
    }
   ]
  },
  {
   "cell_type": "markdown",
   "metadata": {
    "id": "whole-chassis"
   },
   "source": [
    "5. Задание\n",
    "- преобразуйте массив из предыдущего задания к матрице 3 на 4\n",
    "- выведите размерность полученного массива"
   ],
   "id": "whole-chassis"
  },
  {
   "cell_type": "code",
   "metadata": {
    "id": "outstanding-deviation",
    "ExecuteTime": {
     "end_time": "2024-02-28T12:37:40.726894500Z",
     "start_time": "2024-02-28T12:37:40.692128400Z"
    }
   },
   "source": [
    "ones = ones.reshape(3, 4)\n",
    "print(ones.shape)"
   ],
   "id": "outstanding-deviation",
   "execution_count": 99,
   "outputs": [
    {
     "name": "stdout",
     "output_type": "stream",
     "text": [
      "(3, 4)\n"
     ]
    }
   ]
  },
  {
   "cell_type": "markdown",
   "metadata": {
    "id": "cubic-noise"
   },
   "source": [
    "6. Задание\n",
    "- создайте матрицу 4 на 5 заполненную числами от 1 до 20\n",
    "- замените элемент в 3-й строке 4-м столбце на -99"
   ],
   "id": "cubic-noise"
  },
  {
   "cell_type": "code",
   "metadata": {
    "id": "foster-memory",
    "ExecuteTime": {
     "end_time": "2024-02-28T12:37:40.761240900Z",
     "start_time": "2024-02-28T12:37:40.729725Z"
    }
   },
   "source": [
    "Z = np.arange(1, 21).reshape(4, 5)\n",
    "print(Z)\n",
    "Z[2, 3] = -99\n",
    "print(Z)"
   ],
   "id": "foster-memory",
   "execution_count": 100,
   "outputs": [
    {
     "name": "stdout",
     "output_type": "stream",
     "text": [
      "[[ 1  2  3  4  5]\n",
      " [ 6  7  8  9 10]\n",
      " [11 12 13 14 15]\n",
      " [16 17 18 19 20]]\n",
      "[[  1   2   3   4   5]\n",
      " [  6   7   8   9  10]\n",
      " [ 11  12  13 -99  15]\n",
      " [ 16  17  18  19  20]]\n"
     ]
    }
   ]
  },
  {
   "cell_type": "markdown",
   "metadata": {
    "id": "helpful-table"
   },
   "source": [
    "7. Задание\n",
    "- создайте вектор длинной 15 со случайными целыми числами в диапазоне от -10 до 10\n",
    "- сделайте реверс вектора"
   ],
   "id": "helpful-table"
  },
  {
   "cell_type": "code",
   "metadata": {
    "id": "magnetic-leone",
    "ExecuteTime": {
     "end_time": "2024-02-28T12:37:40.797727200Z",
     "start_time": "2024-02-28T12:37:40.764722400Z"
    }
   },
   "source": [
    "first = np.random.randint(-10, 11, 15)\n",
    "print(first)\n",
    "second = np.flip(first)\n",
    "print(second)"
   ],
   "id": "magnetic-leone",
   "execution_count": 101,
   "outputs": [
    {
     "name": "stdout",
     "output_type": "stream",
     "text": [
      "[ -9  -1 -10   2   2   8   2 -10   5  -6  -9  -7  -4  -1  -5]\n",
      "[ -5  -1  -4  -7  -9  -6   5 -10   2   8   2   2 -10  -1  -9]\n"
     ]
    }
   ]
  },
  {
   "cell_type": "markdown",
   "metadata": {
    "id": "executed-september"
   },
   "source": [
    "8. Задание\n",
    "- создайте матрицу 5 на 5 со случайными целыми числами в диапазоне от -15 до 15\n",
    "- замените отрицательные элементы на их квадраты"
   ],
   "id": "executed-september"
  },
  {
   "cell_type": "code",
   "metadata": {
    "id": "pharmaceutical-sigma",
    "ExecuteTime": {
     "end_time": "2024-02-28T12:37:40.833240500Z",
     "start_time": "2024-02-28T12:37:40.800727400Z"
    }
   },
   "source": [
    "first = np.random.randint(-15, 16, (5, 5))\n",
    "print(first)\n",
    "first[first < 0] = first[first < 0] ** 2\n",
    "print(first)"
   ],
   "id": "pharmaceutical-sigma",
   "execution_count": 102,
   "outputs": [
    {
     "name": "stdout",
     "output_type": "stream",
     "text": [
      "[[ -8  -7   0 -12   5]\n",
      " [-10  15  -7   1   4]\n",
      " [ -4  13  14   7  15]\n",
      " [-12   1  -1   9 -15]\n",
      " [ 15   5  13   3   0]]\n",
      "[[ 64  49   0 144   5]\n",
      " [100  15  49   1   4]\n",
      " [ 16  13  14   7  15]\n",
      " [144   1   1   9 225]\n",
      " [ 15   5  13   3   0]]\n"
     ]
    }
   ]
  },
  {
   "cell_type": "markdown",
   "metadata": {
    "id": "floral-difference"
   },
   "source": [
    "9. Задание\n",
    "- создайте матрицу 3 на 5 со случайными целыми числами в диапазоне от -15 до 15\n",
    "- найдите максимум и минимум\n",
    "- найдите среднее по столбцам\n",
    "- найдите среднее по строкам"
   ],
   "id": "floral-difference"
  },
  {
   "cell_type": "code",
   "metadata": {
    "id": "saving-conference",
    "ExecuteTime": {
     "end_time": "2024-02-28T12:37:40.884902Z",
     "start_time": "2024-02-28T12:37:40.836602200Z"
    }
   },
   "source": [
    "first = np.random.randint(-15, 16, (3, 5))\n",
    "print(np.max(first), np.min(first))\n",
    "print(np.mean(first, axis=0))\n",
    "print(np.mean(first, axis=1))"
   ],
   "id": "saving-conference",
   "execution_count": 103,
   "outputs": [
    {
     "name": "stdout",
     "output_type": "stream",
     "text": [
      "14 -12\n",
      "[ 1.33333333 -4.33333333  4.         -1.66666667  2.33333333]\n",
      "[ 2.6 -5.2  3.6]\n"
     ]
    }
   ]
  },
  {
   "cell_type": "markdown",
   "metadata": {
    "id": "diagnostic-departure"
   },
   "source": [
    "10. Задание\n",
    "- даны две матрицы\n",
    "- убедитесь, что их можно пермножить\n",
    "- произведите операцию умножения матриц, если это возможно, иначе выведите ошибку"
   ],
   "id": "diagnostic-departure"
  },
  {
   "cell_type": "code",
   "metadata": {
    "id": "olympic-qatar",
    "ExecuteTime": {
     "end_time": "2024-02-28T12:37:40.884902Z",
     "start_time": "2024-02-28T12:37:40.841597700Z"
    }
   },
   "source": [
    "a = np.random.randint(-10, 10, (2, 5))\n",
    "first_axis = np.random.randint(4, 6)\n",
    "b = np.random.randint(-10, 10, (first_axis, 3))\n",
    "if a.shape[1] == b.shape[0]:\n",
    "    print(a @ b)\n",
    "else:\n",
    "    print(\"Error matrix dot\")"
   ],
   "id": "olympic-qatar",
   "execution_count": 104,
   "outputs": [
    {
     "name": "stdout",
     "output_type": "stream",
     "text": [
      "Error matrix dot\n"
     ]
    }
   ]
  },
  {
   "cell_type": "markdown",
   "metadata": {
    "id": "governmental-austin"
   },
   "source": [
    "11. Задание\n",
    "- создайте матрицу 5 на 5 заполненную равномерным распределением с диапазоно 2-12\n",
    "- заполните все элементы ниже главной диагонали нулями"
   ],
   "id": "governmental-austin"
  },
  {
   "cell_type": "code",
   "metadata": {
    "id": "suffering-mauritius",
    "ExecuteTime": {
     "end_time": "2024-02-28T12:37:40.903416700Z",
     "start_time": "2024-02-28T12:37:40.889009300Z"
    }
   },
   "source": [
    "matrix = np.random.uniform(2, 12, (5, 5))\n",
    "matrix = np.tril(matrix, 0)\n",
    "print(matrix)"
   ],
   "id": "suffering-mauritius",
   "execution_count": 105,
   "outputs": [
    {
     "name": "stdout",
     "output_type": "stream",
     "text": [
      "[[ 6.33536841  0.          0.          0.          0.        ]\n",
      " [10.91237509  7.05463827  0.          0.          0.        ]\n",
      " [10.92518852  3.32429616  7.47531775  0.          0.        ]\n",
      " [ 8.12386953  9.16613121  4.76135338  5.14250732  0.        ]\n",
      " [10.10761938  9.15084664  8.87104888  7.79895532  6.33690267]]\n"
     ]
    }
   ]
  },
  {
   "cell_type": "markdown",
   "metadata": {
    "id": "altered-baghdad"
   },
   "source": [
    "12. Задание\n",
    "- создайте матрицу 5 на 5 заполненную нормальным распределением с парметрами среднее 10 и отклонение 2\n",
    "- заполните все элементы на главной диагонали нулями"
   ],
   "id": "altered-baghdad"
  },
  {
   "cell_type": "code",
   "metadata": {
    "id": "refined-stuff",
    "ExecuteTime": {
     "end_time": "2024-02-28T12:37:40.904417500Z",
     "start_time": "2024-02-28T12:37:40.893011300Z"
    }
   },
   "source": [
    "matrix = np.random.normal(10, 2, (5, 5))\n",
    "np.fill_diagonal(matrix, 0)\n",
    "\n",
    "print(matrix)"
   ],
   "id": "refined-stuff",
   "execution_count": 106,
   "outputs": [
    {
     "name": "stdout",
     "output_type": "stream",
     "text": [
      "[[ 0.         13.62888771  7.43044479 10.77250187  9.37632374]\n",
      " [10.75960447  0.          9.11355443  9.83888884 10.55819235]\n",
      " [11.7842425  12.9921329   0.          7.60320641  8.19608352]\n",
      " [11.09266497  9.71280088  9.15361412  0.          9.23618017]\n",
      " [10.85728463  9.39183762  6.20373101 11.57349063  0.        ]]\n"
     ]
    }
   ]
  },
  {
   "cell_type": "markdown",
   "metadata": {
    "id": "quiet-complement"
   },
   "source": [
    "13. Задание\n",
    "- дано два массива, проверить одинаковы ли они"
   ],
   "id": "quiet-complement"
  },
  {
   "cell_type": "code",
   "metadata": {
    "id": "french-fighter",
    "ExecuteTime": {
     "end_time": "2024-02-28T12:37:40.920355300Z",
     "start_time": "2024-02-28T12:37:40.907417300Z"
    }
   },
   "source": [
    "a = np.random.randint(0, 2, 5)\n",
    "print(a)\n",
    "b = np.random.randint(0, 2, 5)\n",
    "print(b)\n",
    "equal = np.array_equal(a, b)\n",
    "print(equal)"
   ],
   "id": "french-fighter",
   "execution_count": 107,
   "outputs": [
    {
     "name": "stdout",
     "output_type": "stream",
     "text": [
      "[1 1 1 1 1]\n",
      "[0 1 0 0 0]\n",
      "False\n"
     ]
    }
   ]
  },
  {
   "cell_type": "markdown",
   "metadata": {
    "id": "color-amplifier"
   },
   "source": [
    "14. Задание\n",
    "- сгенерируйте матрицу случайного размера:\n",
    " - строк от 3 до 7\n",
    " - столбцов от 2 до 12\n",
    "- сгенерируйте число N - размер выборки так, чтобы оно не превышало половину количества элементов сгенерированной матрицы, но было больше 0\n",
    "- сделайте случайную выборку N элементов"
   ],
   "id": "color-amplifier"
  },
  {
   "cell_type": "code",
   "metadata": {
    "id": "close-daisy",
    "ExecuteTime": {
     "end_time": "2024-02-28T12:37:40.987980800Z",
     "start_time": "2024-02-28T12:37:40.914350500Z"
    }
   },
   "source": [
    "r, c = np.random.randint(3, 8), np.random.randint(2, 13)\n",
    "a = np.random.rand(r, c)\n",
    "print(a)\n",
    "N = np.random.randint(1, a.size // 2 + 1)\n",
    "print(N)\n",
    "sample = np.random.choice(a.flatten(), N)\n",
    "print(sample)"
   ],
   "id": "close-daisy",
   "execution_count": 108,
   "outputs": [
    {
     "name": "stdout",
     "output_type": "stream",
     "text": [
      "[[0.85319818 0.13483771 0.60327928 0.03828407]\n",
      " [0.01745773 0.73216532 0.4712058  0.51797685]\n",
      " [0.90204034 0.5006751  0.79039021 0.73384846]\n",
      " [0.51228295 0.314048   0.27355453 0.11526843]\n",
      " [0.94375055 0.34224107 0.46978055 0.9378755 ]\n",
      " [0.91683284 0.12028739 0.3809484  0.06843435]]\n",
      "9\n",
      "[0.91683284 0.73384846 0.5006751  0.94375055 0.3809484  0.85319818\n",
      " 0.27355453 0.91683284 0.34224107]\n"
     ]
    }
   ]
  },
  {
   "cell_type": "markdown",
   "metadata": {
    "id": "patent-african"
   },
   "source": [
    "15. Задание\n",
    "- дан вектор, проверить есть в нем Nan\n",
    "- проверить есть в нем знак бесконечности\n",
    "- заполнить их нулями"
   ],
   "id": "patent-african"
  },
  {
   "cell_type": "code",
   "metadata": {
    "id": "taken-fabric",
    "ExecuteTime": {
     "end_time": "2024-02-28T12:37:40.990995100Z",
     "start_time": "2024-02-28T12:37:40.923349800Z"
    }
   },
   "source": [
    "a = np.array([1, np.NaN, np.Inf], float)\n",
    "print(a)\n",
    "\n",
    "nan_mask = np.isnan(a)\n",
    "if np.any(nan_mask):\n",
    "    a[np.isnan(a)] = 0\n",
    "\n",
    "inf_mask = np.isinf(a)\n",
    "if np.any(inf_mask):\n",
    "    a[np.isinf(a)] = 0\n",
    "print(a)"
   ],
   "id": "taken-fabric",
   "execution_count": 109,
   "outputs": [
    {
     "name": "stdout",
     "output_type": "stream",
     "text": [
      "[ 1. nan inf]\n",
      "[1. 0. 0.]\n"
     ]
    }
   ]
  },
  {
   "cell_type": "markdown",
   "metadata": {
    "id": "analyzed-ireland"
   },
   "source": [
    "16. Задание\n",
    "- сгенерировать массив с произвольным числом осей\n",
    "- определить сколько у него осей"
   ],
   "id": "analyzed-ireland"
  },
  {
   "cell_type": "code",
   "metadata": {
    "id": "imposed-digest",
    "ExecuteTime": {
     "end_time": "2024-02-28T12:37:41.031311400Z",
     "start_time": "2024-02-28T12:37:40.992985300Z"
    }
   },
   "source": [
    "axis = np.random.randint(1, 5)\n",
    "shape = np.random.randint(0, 1, size=axis)\n",
    "random_array = np.random.random(size=shape)\n",
    "print(matrix.ndim)"
   ],
   "id": "imposed-digest",
   "execution_count": 110,
   "outputs": [
    {
     "name": "stdout",
     "output_type": "stream",
     "text": [
      "2\n"
     ]
    }
   ]
  },
  {
   "cell_type": "markdown",
   "metadata": {
    "id": "regulation-colleague"
   },
   "source": [
    "17. Задание\n",
    "- сгенерируйте матрицу 10 на 3 с нормальным распределением, среднее 50, отклонение 10\n",
    "- найдите индексы максимальных элементов в каждой строке\n",
    "- найдите сами элементы"
   ],
   "id": "regulation-colleague"
  },
  {
   "cell_type": "code",
   "metadata": {
    "id": "concerned-anthropology",
    "ExecuteTime": {
     "end_time": "2024-02-28T12:37:41.068320200Z",
     "start_time": "2024-02-28T12:37:41.033314600Z"
    }
   },
   "source": [
    "matrix = np.random.normal(50, 10, (10, 3))\n",
    "print(matrix)\n",
    "indexes = matrix.argmax(axis=1)\n",
    "print(indexes)\n",
    "max_elements = matrix[np.arange(matrix.shape[0]), indexes]\n",
    "print(max_elements)"
   ],
   "id": "concerned-anthropology",
   "execution_count": 111,
   "outputs": [
    {
     "name": "stdout",
     "output_type": "stream",
     "text": [
      "[[47.21050205 43.12597015 45.88056518]\n",
      " [63.60109026 35.24825827 56.8929539 ]\n",
      " [53.10538933 58.29012516 52.69972391]\n",
      " [52.68973676 42.33243609 39.4569364 ]\n",
      " [50.67557362 66.40104527 43.4410356 ]\n",
      " [70.56867517 44.54348608 26.70956125]\n",
      " [49.72157567 56.05184417 65.73623513]\n",
      " [55.83240547 57.19651251 48.33985185]\n",
      " [52.13634675 40.14197101 54.39880372]\n",
      " [21.43633265 56.61198295 51.5619915 ]]\n",
      "[0 0 1 0 1 0 2 1 2 1]\n",
      "[47.21050205 63.60109026 58.29012516 52.68973676 66.40104527 70.56867517\n",
      " 65.73623513 57.19651251 54.39880372 56.61198295]\n"
     ]
    }
   ]
  },
  {
   "cell_type": "markdown",
   "source": [
    "18. Задача теорвер. Реализовать решение методом Монте Карло. 1 и 2 подзадачи полностью из 3-ей выбрать любой пункт\n",
    "Кто сможет обойтись без циклов для создания серии экспериментов - отдельный плюсик!!!"
   ],
   "metadata": {
    "id": "7UjdpXVukzPG"
   },
   "id": "7UjdpXVukzPG"
  },
  {
   "cell_type": "markdown",
   "source": [
    "1. Бросаем два игральных кубика: красный и синий. Определите вероятность того, что цифры на красном и синем кубиках совпадут.\n",
    "2. В этом же эксперименте с кубиками нужно найти наиболее вероятную сумму цифр на кубиках.\n",
    "3. Наудачу выбирается одно число от 1 до 20. Считая все числа равновозможными, определите вероятность того, что выбранное число:\n",
    "* чётно;\n",
    "* делится на 3;\n",
    "* делится и на 2, и на 3;\n",
    "* не делится ни на 2, ни на 3;\n",
    "* имеет сумму цифр 9;\n",
    "* имеет сумму цифр, делящуюся на 3."
   ],
   "metadata": {
    "id": "Ep-CKckAk5V_"
   },
   "id": "Ep-CKckAk5V_"
  },
  {
   "cell_type": "code",
   "outputs": [
    {
     "name": "stdout",
     "output_type": "stream",
     "text": [
      "Задача 1: Вероятность что цифры на красном и синем кубиках совпали: 0.165665\n",
      "Задача 2: Наиболее вероятная сумма цифр на кубиках: 7\n",
      "Задача 3: Вероятность, что выбранное число:\n",
      "\tчётно: 0.500054\n",
      "\tделится на 3: 0.300337\n",
      "\tделится и на 2, и на 3: 0.150119\n",
      "\tне делится ни на 2, ни на 3: 0.349728\n",
      "\tимеет сумму цифр 9: 0.099966\n",
      "\tимеет сумму цифр, делящуюся на 3: 0.300337\n"
     ]
    }
   ],
   "source": [
    "# Задача 1:\n",
    "red_die = np.random.randint(1, 7, size=1000000)\n",
    "blue_die = np.random.randint(1, 7, size=1000000)\n",
    "matching_numbers = np.sum(red_die == blue_die)\n",
    "probability_matching = matching_numbers / 1000000\n",
    "print(\"Задача 1: Вероятность что цифры на красном и синем кубиках совпали:\", probability_matching)\n",
    "\n",
    "# Задача 2:\n",
    "sum_of_numbers = red_die + blue_die\n",
    "most_common_sum = np.argmax(np.bincount(sum_of_numbers))\n",
    "print(\"Задача 2: Наиболее вероятная сумма цифр на кубиках:\", most_common_sum)\n",
    "\n",
    "# Задача 3:\n",
    "random_number = np.random.randint(1, 21, size=1000000)\n",
    "even_probability = np.mean(random_number % 2 == 0)\n",
    "divisible_by_3_probability = np.mean(random_number % 3 == 0)\n",
    "divisible_by_2_and_3_probability = np.mean((random_number % 2 == 0) & (random_number % 3 == 0))\n",
    "not_divisible_by_2_or_3_probability = np.mean((random_number % 2 != 0) & (random_number % 3 != 0))\n",
    "sum_of_digits_9_probability = np.mean((random_number==9) | (random_number==18))\n",
    "sum_of_digits_divisible_by_3_probability = np.mean(random_number%3==0)\n",
    "\n",
    "print(\"Задача 3: Вероятность, что выбранное число:\")\n",
    "print(\"\\tчётно:\", even_probability)\n",
    "print(\"\\tделится на 3:\", divisible_by_3_probability)\n",
    "print(\"\\tделится и на 2, и на 3:\", divisible_by_2_and_3_probability)\n",
    "print(\"\\tне делится ни на 2, ни на 3:\", not_divisible_by_2_or_3_probability)\n",
    "print(\"\\tимеет сумму цифр 9:\", sum_of_digits_9_probability)\n",
    "print(\"\\tимеет сумму цифр, делящуюся на 3:\", sum_of_digits_divisible_by_3_probability)\n"
   ],
   "metadata": {
    "collapsed": false,
    "ExecuteTime": {
     "end_time": "2024-02-28T12:37:41.162038700Z",
     "start_time": "2024-02-28T12:37:41.073322200Z"
    }
   },
   "id": "d1525610e55c7688",
   "execution_count": 112
  },
  {
   "cell_type": "code",
   "outputs": [],
   "source": [],
   "metadata": {
    "collapsed": false,
    "ExecuteTime": {
     "end_time": "2024-02-28T12:37:41.163036900Z",
     "start_time": "2024-02-28T12:37:41.158041200Z"
    }
   },
   "id": "300cc39c657c2762",
   "execution_count": 112
  }
 ]
}
