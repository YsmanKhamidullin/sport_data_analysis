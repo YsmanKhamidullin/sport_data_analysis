{
 "nbformat": 4,
 "nbformat_minor": 0,
 "metadata": {
  "anaconda-cloud": {},
  "kernelspec": {
   "display_name": "Python 3",
   "language": "python",
   "name": "python3"
  },
  "language_info": {
   "codemirror_mode": {
    "name": "ipython",
    "version": 3
   },
   "file_extension": ".py",
   "mimetype": "text/x-python",
   "name": "python",
   "nbconvert_exporter": "python",
   "pygments_lexer": "ipython3",
   "version": "3.7.6"
  },
  "colab": {
   "provenance": []
  }
 },
 "cells": [
  {
   "cell_type": "markdown",
   "source": [
    "# Уровень доходов"
   ],
   "metadata": {
    "id": "tEIGHiu6G__T"
   }
  },
  {
   "cell_type": "markdown",
   "metadata": {
    "id": "3lUT-CqYutTO"
   },
   "source": [
    "- age: continuous.\n",
    "- workclass: Private, Self-emp-not-inc, Self-emp-inc, Federal-gov, Local-gov, State-gov, Without-pay, Never-worked.\n",
    "- fnlwgt: continuous.\n",
    "- education: Bachelors, Some-college, 11th, HS-grad, Prof-school, Assoc-acdm, Assoc-voc, 9th, 7th-8th, 12th, Masters, 1st-4th, 10th, Doctorate, 5th-6th, Preschool.\n",
    "- education-num: continuous.\n",
    "- marital-status: Married-civ-spouse, Divorced, Never-married, Separated, Widowed, Married-spouse-absent, Married-AF-spouse.\n",
    "- occupation: Tech-support, Craft-repair, Other-service, Sales, Exec-managerial, Prof-specialty, Handlers-cleaners, Machine-op-inspct, Adm-clerical, Farming-fishing, Transport-moving, Priv-house-serv, Protective-serv, Armed-Forces.\n",
    "- relationship: Wife, Own-child, Husband, Not-in-family, Other-relative, Unmarried.\n",
    "- race: White, Asian-Pac-Islander, Amer-Indian-Eskimo, Other, Black.\n",
    "- sex: Female, Male.\n",
    "- capital-gain: continuous.\n",
    "- capital-loss: continuous.\n",
    "- hours-per-week: continuous.\n",
    "- native-country: United-States, Cambodia, England, Puerto-Rico, Canada, Germany, Outlying-US(Guam-USVI-etc), India, Japan, Greece, South, China, Cuba, Iran, Honduras, Philippines, Italy, Poland, Jamaica, Vietnam, Mexico, Portugal, Ireland, France, Dominican-Republic, Laos, Ecuador, Taiwan, Haiti, Columbia, Hungary, Guatemala, Nicaragua, Scotland, Thailand, Yugoslavia, El-Salvador, Trinadad&Tobago, Peru, Hong, Holand-Netherlands.   \n",
    "- salary: >50K,<=50K"
   ]
  },
  {
   "cell_type": "code",
   "metadata": {
    "id": "6GzulHvOutTR",
    "ExecuteTime": {
     "end_time": "2024-03-08T07:56:30.554603500Z",
     "start_time": "2024-03-08T07:56:30.069880900Z"
    }
   },
   "source": [
    "import numpy as np\n",
    "import pandas as pd"
   ],
   "execution_count": 1,
   "outputs": []
  },
  {
   "cell_type": "code",
   "metadata": {
    "id": "SJ3LbaoiutTT",
    "colab": {
     "base_uri": "https://localhost:8080/",
     "height": 310
    },
    "outputId": "66339507-0605-484c-a909-ef98191ed5a6",
    "ExecuteTime": {
     "end_time": "2024-03-08T07:56:33.045095300Z",
     "start_time": "2024-03-08T07:56:31.818168900Z"
    }
   },
   "source": [
    "data = pd.read_csv(\"https://raw.githubusercontent.com/aksenov7/Kaggle_competition_group/master/adult.data.csv\")\n",
    "data.head()"
   ],
   "execution_count": 2,
   "outputs": [
    {
     "data": {
      "text/plain": "   age         workclass  fnlwgt  education  education-num  \\\n0   39         State-gov   77516  Bachelors             13   \n1   50  Self-emp-not-inc   83311  Bachelors             13   \n2   38           Private  215646    HS-grad              9   \n3   53           Private  234721       11th              7   \n4   28           Private  338409  Bachelors             13   \n\n       marital-status         occupation   relationship   race     sex  \\\n0       Never-married       Adm-clerical  Not-in-family  White    Male   \n1  Married-civ-spouse    Exec-managerial        Husband  White    Male   \n2            Divorced  Handlers-cleaners  Not-in-family  White    Male   \n3  Married-civ-spouse  Handlers-cleaners        Husband  Black    Male   \n4  Married-civ-spouse     Prof-specialty           Wife  Black  Female   \n\n   capital-gain  capital-loss  hours-per-week native-country salary  \n0          2174             0              40  United-States  <=50K  \n1             0             0              13  United-States  <=50K  \n2             0             0              40  United-States  <=50K  \n3             0             0              40  United-States  <=50K  \n4             0             0              40           Cuba  <=50K  ",
      "text/html": "<div>\n<style scoped>\n    .dataframe tbody tr th:only-of-type {\n        vertical-align: middle;\n    }\n\n    .dataframe tbody tr th {\n        vertical-align: top;\n    }\n\n    .dataframe thead th {\n        text-align: right;\n    }\n</style>\n<table border=\"1\" class=\"dataframe\">\n  <thead>\n    <tr style=\"text-align: right;\">\n      <th></th>\n      <th>age</th>\n      <th>workclass</th>\n      <th>fnlwgt</th>\n      <th>education</th>\n      <th>education-num</th>\n      <th>marital-status</th>\n      <th>occupation</th>\n      <th>relationship</th>\n      <th>race</th>\n      <th>sex</th>\n      <th>capital-gain</th>\n      <th>capital-loss</th>\n      <th>hours-per-week</th>\n      <th>native-country</th>\n      <th>salary</th>\n    </tr>\n  </thead>\n  <tbody>\n    <tr>\n      <th>0</th>\n      <td>39</td>\n      <td>State-gov</td>\n      <td>77516</td>\n      <td>Bachelors</td>\n      <td>13</td>\n      <td>Never-married</td>\n      <td>Adm-clerical</td>\n      <td>Not-in-family</td>\n      <td>White</td>\n      <td>Male</td>\n      <td>2174</td>\n      <td>0</td>\n      <td>40</td>\n      <td>United-States</td>\n      <td>&lt;=50K</td>\n    </tr>\n    <tr>\n      <th>1</th>\n      <td>50</td>\n      <td>Self-emp-not-inc</td>\n      <td>83311</td>\n      <td>Bachelors</td>\n      <td>13</td>\n      <td>Married-civ-spouse</td>\n      <td>Exec-managerial</td>\n      <td>Husband</td>\n      <td>White</td>\n      <td>Male</td>\n      <td>0</td>\n      <td>0</td>\n      <td>13</td>\n      <td>United-States</td>\n      <td>&lt;=50K</td>\n    </tr>\n    <tr>\n      <th>2</th>\n      <td>38</td>\n      <td>Private</td>\n      <td>215646</td>\n      <td>HS-grad</td>\n      <td>9</td>\n      <td>Divorced</td>\n      <td>Handlers-cleaners</td>\n      <td>Not-in-family</td>\n      <td>White</td>\n      <td>Male</td>\n      <td>0</td>\n      <td>0</td>\n      <td>40</td>\n      <td>United-States</td>\n      <td>&lt;=50K</td>\n    </tr>\n    <tr>\n      <th>3</th>\n      <td>53</td>\n      <td>Private</td>\n      <td>234721</td>\n      <td>11th</td>\n      <td>7</td>\n      <td>Married-civ-spouse</td>\n      <td>Handlers-cleaners</td>\n      <td>Husband</td>\n      <td>Black</td>\n      <td>Male</td>\n      <td>0</td>\n      <td>0</td>\n      <td>40</td>\n      <td>United-States</td>\n      <td>&lt;=50K</td>\n    </tr>\n    <tr>\n      <th>4</th>\n      <td>28</td>\n      <td>Private</td>\n      <td>338409</td>\n      <td>Bachelors</td>\n      <td>13</td>\n      <td>Married-civ-spouse</td>\n      <td>Prof-specialty</td>\n      <td>Wife</td>\n      <td>Black</td>\n      <td>Female</td>\n      <td>0</td>\n      <td>0</td>\n      <td>40</td>\n      <td>Cuba</td>\n      <td>&lt;=50K</td>\n    </tr>\n  </tbody>\n</table>\n</div>"
     },
     "execution_count": 2,
     "metadata": {},
     "output_type": "execute_result"
    }
   ]
  },
  {
   "cell_type": "code",
   "metadata": {
    "id": "EpQFv8t1ds05",
    "ExecuteTime": {
     "end_time": "2024-03-08T07:57:23.262704100Z",
     "start_time": "2024-03-08T07:57:23.222166500Z"
    }
   },
   "source": [
    "# def married(row):\n",
    "#   return \"Married\" in row\n",
    "data[\"married\"] = data[\"marital-status\"].apply(lambda row: \"Married\" in row)"
   ],
   "execution_count": 3,
   "outputs": []
  },
  {
   "cell_type": "code",
   "metadata": {
    "colab": {
     "base_uri": "https://localhost:8080/",
     "height": 756
    },
    "id": "3Bb2mRTEeoJK",
    "outputId": "9dd7d83b-f51a-4e11-f6dc-035a844f81c9",
    "ExecuteTime": {
     "end_time": "2024-03-08T07:57:26.874858900Z",
     "start_time": "2024-03-08T07:57:26.823234700Z"
    }
   },
   "source": [
    "data"
   ],
   "execution_count": 4,
   "outputs": [
    {
     "data": {
      "text/plain": "       age         workclass  fnlwgt   education  education-num  \\\n0       39         State-gov   77516   Bachelors             13   \n1       50  Self-emp-not-inc   83311   Bachelors             13   \n2       38           Private  215646     HS-grad              9   \n3       53           Private  234721        11th              7   \n4       28           Private  338409   Bachelors             13   \n...    ...               ...     ...         ...            ...   \n32556   27           Private  257302  Assoc-acdm             12   \n32557   40           Private  154374     HS-grad              9   \n32558   58           Private  151910     HS-grad              9   \n32559   22           Private  201490     HS-grad              9   \n32560   52      Self-emp-inc  287927     HS-grad              9   \n\n           marital-status         occupation   relationship   race     sex  \\\n0           Never-married       Adm-clerical  Not-in-family  White    Male   \n1      Married-civ-spouse    Exec-managerial        Husband  White    Male   \n2                Divorced  Handlers-cleaners  Not-in-family  White    Male   \n3      Married-civ-spouse  Handlers-cleaners        Husband  Black    Male   \n4      Married-civ-spouse     Prof-specialty           Wife  Black  Female   \n...                   ...                ...            ...    ...     ...   \n32556  Married-civ-spouse       Tech-support           Wife  White  Female   \n32557  Married-civ-spouse  Machine-op-inspct        Husband  White    Male   \n32558             Widowed       Adm-clerical      Unmarried  White  Female   \n32559       Never-married       Adm-clerical      Own-child  White    Male   \n32560  Married-civ-spouse    Exec-managerial           Wife  White  Female   \n\n       capital-gain  capital-loss  hours-per-week native-country salary  \\\n0              2174             0              40  United-States  <=50K   \n1                 0             0              13  United-States  <=50K   \n2                 0             0              40  United-States  <=50K   \n3                 0             0              40  United-States  <=50K   \n4                 0             0              40           Cuba  <=50K   \n...             ...           ...             ...            ...    ...   \n32556             0             0              38  United-States  <=50K   \n32557             0             0              40  United-States   >50K   \n32558             0             0              40  United-States  <=50K   \n32559             0             0              20  United-States  <=50K   \n32560         15024             0              40  United-States   >50K   \n\n       married  \n0        False  \n1         True  \n2        False  \n3         True  \n4         True  \n...        ...  \n32556     True  \n32557     True  \n32558    False  \n32559    False  \n32560     True  \n\n[32561 rows x 16 columns]",
      "text/html": "<div>\n<style scoped>\n    .dataframe tbody tr th:only-of-type {\n        vertical-align: middle;\n    }\n\n    .dataframe tbody tr th {\n        vertical-align: top;\n    }\n\n    .dataframe thead th {\n        text-align: right;\n    }\n</style>\n<table border=\"1\" class=\"dataframe\">\n  <thead>\n    <tr style=\"text-align: right;\">\n      <th></th>\n      <th>age</th>\n      <th>workclass</th>\n      <th>fnlwgt</th>\n      <th>education</th>\n      <th>education-num</th>\n      <th>marital-status</th>\n      <th>occupation</th>\n      <th>relationship</th>\n      <th>race</th>\n      <th>sex</th>\n      <th>capital-gain</th>\n      <th>capital-loss</th>\n      <th>hours-per-week</th>\n      <th>native-country</th>\n      <th>salary</th>\n      <th>married</th>\n    </tr>\n  </thead>\n  <tbody>\n    <tr>\n      <th>0</th>\n      <td>39</td>\n      <td>State-gov</td>\n      <td>77516</td>\n      <td>Bachelors</td>\n      <td>13</td>\n      <td>Never-married</td>\n      <td>Adm-clerical</td>\n      <td>Not-in-family</td>\n      <td>White</td>\n      <td>Male</td>\n      <td>2174</td>\n      <td>0</td>\n      <td>40</td>\n      <td>United-States</td>\n      <td>&lt;=50K</td>\n      <td>False</td>\n    </tr>\n    <tr>\n      <th>1</th>\n      <td>50</td>\n      <td>Self-emp-not-inc</td>\n      <td>83311</td>\n      <td>Bachelors</td>\n      <td>13</td>\n      <td>Married-civ-spouse</td>\n      <td>Exec-managerial</td>\n      <td>Husband</td>\n      <td>White</td>\n      <td>Male</td>\n      <td>0</td>\n      <td>0</td>\n      <td>13</td>\n      <td>United-States</td>\n      <td>&lt;=50K</td>\n      <td>True</td>\n    </tr>\n    <tr>\n      <th>2</th>\n      <td>38</td>\n      <td>Private</td>\n      <td>215646</td>\n      <td>HS-grad</td>\n      <td>9</td>\n      <td>Divorced</td>\n      <td>Handlers-cleaners</td>\n      <td>Not-in-family</td>\n      <td>White</td>\n      <td>Male</td>\n      <td>0</td>\n      <td>0</td>\n      <td>40</td>\n      <td>United-States</td>\n      <td>&lt;=50K</td>\n      <td>False</td>\n    </tr>\n    <tr>\n      <th>3</th>\n      <td>53</td>\n      <td>Private</td>\n      <td>234721</td>\n      <td>11th</td>\n      <td>7</td>\n      <td>Married-civ-spouse</td>\n      <td>Handlers-cleaners</td>\n      <td>Husband</td>\n      <td>Black</td>\n      <td>Male</td>\n      <td>0</td>\n      <td>0</td>\n      <td>40</td>\n      <td>United-States</td>\n      <td>&lt;=50K</td>\n      <td>True</td>\n    </tr>\n    <tr>\n      <th>4</th>\n      <td>28</td>\n      <td>Private</td>\n      <td>338409</td>\n      <td>Bachelors</td>\n      <td>13</td>\n      <td>Married-civ-spouse</td>\n      <td>Prof-specialty</td>\n      <td>Wife</td>\n      <td>Black</td>\n      <td>Female</td>\n      <td>0</td>\n      <td>0</td>\n      <td>40</td>\n      <td>Cuba</td>\n      <td>&lt;=50K</td>\n      <td>True</td>\n    </tr>\n    <tr>\n      <th>...</th>\n      <td>...</td>\n      <td>...</td>\n      <td>...</td>\n      <td>...</td>\n      <td>...</td>\n      <td>...</td>\n      <td>...</td>\n      <td>...</td>\n      <td>...</td>\n      <td>...</td>\n      <td>...</td>\n      <td>...</td>\n      <td>...</td>\n      <td>...</td>\n      <td>...</td>\n      <td>...</td>\n    </tr>\n    <tr>\n      <th>32556</th>\n      <td>27</td>\n      <td>Private</td>\n      <td>257302</td>\n      <td>Assoc-acdm</td>\n      <td>12</td>\n      <td>Married-civ-spouse</td>\n      <td>Tech-support</td>\n      <td>Wife</td>\n      <td>White</td>\n      <td>Female</td>\n      <td>0</td>\n      <td>0</td>\n      <td>38</td>\n      <td>United-States</td>\n      <td>&lt;=50K</td>\n      <td>True</td>\n    </tr>\n    <tr>\n      <th>32557</th>\n      <td>40</td>\n      <td>Private</td>\n      <td>154374</td>\n      <td>HS-grad</td>\n      <td>9</td>\n      <td>Married-civ-spouse</td>\n      <td>Machine-op-inspct</td>\n      <td>Husband</td>\n      <td>White</td>\n      <td>Male</td>\n      <td>0</td>\n      <td>0</td>\n      <td>40</td>\n      <td>United-States</td>\n      <td>&gt;50K</td>\n      <td>True</td>\n    </tr>\n    <tr>\n      <th>32558</th>\n      <td>58</td>\n      <td>Private</td>\n      <td>151910</td>\n      <td>HS-grad</td>\n      <td>9</td>\n      <td>Widowed</td>\n      <td>Adm-clerical</td>\n      <td>Unmarried</td>\n      <td>White</td>\n      <td>Female</td>\n      <td>0</td>\n      <td>0</td>\n      <td>40</td>\n      <td>United-States</td>\n      <td>&lt;=50K</td>\n      <td>False</td>\n    </tr>\n    <tr>\n      <th>32559</th>\n      <td>22</td>\n      <td>Private</td>\n      <td>201490</td>\n      <td>HS-grad</td>\n      <td>9</td>\n      <td>Never-married</td>\n      <td>Adm-clerical</td>\n      <td>Own-child</td>\n      <td>White</td>\n      <td>Male</td>\n      <td>0</td>\n      <td>0</td>\n      <td>20</td>\n      <td>United-States</td>\n      <td>&lt;=50K</td>\n      <td>False</td>\n    </tr>\n    <tr>\n      <th>32560</th>\n      <td>52</td>\n      <td>Self-emp-inc</td>\n      <td>287927</td>\n      <td>HS-grad</td>\n      <td>9</td>\n      <td>Married-civ-spouse</td>\n      <td>Exec-managerial</td>\n      <td>Wife</td>\n      <td>White</td>\n      <td>Female</td>\n      <td>15024</td>\n      <td>0</td>\n      <td>40</td>\n      <td>United-States</td>\n      <td>&gt;50K</td>\n      <td>True</td>\n    </tr>\n  </tbody>\n</table>\n<p>32561 rows × 16 columns</p>\n</div>"
     },
     "execution_count": 4,
     "metadata": {},
     "output_type": "execute_result"
    }
   ]
  },
  {
   "cell_type": "markdown",
   "metadata": {
    "id": "MoK8B5fIutTW"
   },
   "source": [
    "**1. Сколько мужчин и женщин (признак *sex*) представлено в этом наборе данных?**"
   ]
  },
  {
   "cell_type": "code",
   "metadata": {
    "collapsed": true,
    "id": "hdzky90TutTY",
    "ExecuteTime": {
     "end_time": "2024-03-08T08:04:06.180040100Z",
     "start_time": "2024-03-08T08:04:06.164028800Z"
    }
   },
   "source": [
    "data['sex'].value_counts()"
   ],
   "execution_count": 15,
   "outputs": [
    {
     "data": {
      "text/plain": "sex\nMale      21790\nFemale    10771\nName: count, dtype: int64"
     },
     "execution_count": 15,
     "metadata": {},
     "output_type": "execute_result"
    }
   ]
  },
  {
   "cell_type": "markdown",
   "metadata": {
    "id": "adF8lgVbutTZ"
   },
   "source": [
    "**2. Каков средний возраст (признак *age*) женщин?**"
   ]
  },
  {
   "cell_type": "code",
   "metadata": {
    "collapsed": true,
    "id": "K6C2qZ_zutTb",
    "ExecuteTime": {
     "end_time": "2024-03-08T08:05:49.996895900Z",
     "start_time": "2024-03-08T08:05:49.977306500Z"
    }
   },
   "source": [
    "data[data.sex == \"Female\"].age.mean()"
   ],
   "execution_count": 24,
   "outputs": [
    {
     "data": {
      "text/plain": "36.85823043357163"
     },
     "execution_count": 24,
     "metadata": {},
     "output_type": "execute_result"
    }
   ]
  },
  {
   "cell_type": "markdown",
   "metadata": {
    "id": "-Cz1S7-HutTd"
   },
   "source": [
    "**3. Какова доля граждан Германии (признак *native-country*)?**"
   ]
  },
  {
   "cell_type": "code",
   "outputs": [
    {
     "data": {
      "text/plain": "0.004207487485028101"
     },
     "execution_count": 72,
     "metadata": {},
     "output_type": "execute_result"
    }
   ],
   "source": [
    "data['native-country'].value_counts().loc['Germany'] / len(data)"
   ],
   "metadata": {
    "collapsed": false,
    "ExecuteTime": {
     "end_time": "2024-03-08T08:16:51.192577500Z",
     "start_time": "2024-03-08T08:16:51.178960900Z"
    }
   },
   "execution_count": 72
  },
  {
   "cell_type": "markdown",
   "metadata": {
    "id": "Do-rEgaautTg"
   },
   "source": [
    "**4-5. Каковы средние значения и среднеквадратичные отклонения возраста тех, кто получает более 50K в год (признак *salary*) и тех, кто получает менее 50K в год? **"
   ]
  },
  {
   "cell_type": "code",
   "metadata": {
    "collapsed": true,
    "id": "eSuk0CAnutTh",
    "ExecuteTime": {
     "end_time": "2024-03-08T08:22:42.932104100Z",
     "start_time": "2024-03-08T08:22:42.915406200Z"
    }
   },
   "source": [
    "more = data[data['salary'] == \">50K\"]['age'].std()\n",
    "print(more)\n",
    "less = data[data['salary'] == \"<=50K\"]['age'].std()\n",
    "print(less)"
   ],
   "execution_count": 97,
   "outputs": [
    {
     "name": "stdout",
     "output_type": "stream",
     "text": [
      "10.519027719851826\n",
      "14.02008849082488\n"
     ]
    }
   ]
  },
  {
   "cell_type": "markdown",
   "metadata": {
    "id": "rK9SwvI_utTj"
   },
   "source": [
    "**6. Правда ли, что люди, которые получают больше 50k, имеют как минимум высшее образование? (признак *education – Bachelors, Prof-school, Assoc-acdm, Assoc-voc, Masters* или *Doctorate*)**"
   ]
  },
  {
   "cell_type": "code",
   "metadata": {
    "collapsed": true,
    "id": "eygYabkdutTj",
    "ExecuteTime": {
     "end_time": "2024-03-08T08:36:54.745688100Z",
     "start_time": "2024-03-08T08:36:54.730683100Z"
    }
   },
   "source": [
    "# pd.crosstab(data.education,data.salary)\n",
    "data[(data.salary == '>50K') & (data.education == '10th')].education.value_counts()\n",
    "# Нет, есть люди, которые не имеют высшее и получают больше 50т"
   ],
   "execution_count": 122,
   "outputs": [
    {
     "data": {
      "text/plain": "education\n10th    62\nName: count, dtype: int64"
     },
     "execution_count": 122,
     "metadata": {},
     "output_type": "execute_result"
    }
   ]
  },
  {
   "cell_type": "markdown",
   "metadata": {
    "id": "4DqPASEsutTk"
   },
   "source": [
    "**7. Выведите статистику возраста для каждой расы (признак *race*) и каждого пола. Используйте *groupby* и *describe*. Найдите таким образом максимальный возраст мужчин расы *Amer-Indian-Eskimo*.**"
   ]
  },
  {
   "cell_type": "code",
   "metadata": {
    "collapsed": true,
    "id": "fYkBDZMdutTl",
    "ExecuteTime": {
     "end_time": "2024-03-08T08:48:00.019109600Z",
     "start_time": "2024-03-08T08:47:59.975476200Z"
    }
   },
   "source": [
    "columns_to_show = [\"race\", \"sex\"]\n",
    "\n",
    "grouped = data.groupby(columns_to_show, as_index=False)['age'].describe(percentiles=[])\n",
    "print(grouped)\n",
    "print(\"\\n\")\n",
    "print(grouped[(grouped.race == \"Amer-Indian-Eskimo\") & (grouped.sex == \"Male\")]['max'])"
   ],
   "execution_count": 168,
   "outputs": [
    {
     "name": "stdout",
     "output_type": "stream",
     "text": [
      "                 race     sex    count       mean        std   min   50%   max\n",
      "0  Amer-Indian-Eskimo  Female    119.0  37.117647  13.114991  17.0  36.0  80.0\n",
      "1  Amer-Indian-Eskimo    Male    192.0  37.208333  12.049563  17.0  35.0  82.0\n",
      "2  Asian-Pac-Islander  Female    346.0  35.089595  12.300845  17.0  33.0  75.0\n",
      "3  Asian-Pac-Islander    Male    693.0  39.073593  12.883944  18.0  37.0  90.0\n",
      "4               Black  Female   1555.0  37.854019  12.637197  17.0  37.0  90.0\n",
      "5               Black    Male   1569.0  37.682600  12.882612  17.0  36.0  90.0\n",
      "6               Other  Female    109.0  31.678899  11.631599  17.0  29.0  74.0\n",
      "7               Other    Male    162.0  34.654321  11.355531  17.0  32.0  77.0\n",
      "8               White  Female   8642.0  36.811618  14.329093  17.0  35.0  90.0\n",
      "9               White    Male  19174.0  39.652498  13.436029  17.0  38.0  90.0\n",
      "\n",
      "\n",
      "1    82.0\n",
      "Name: max, dtype: float64\n"
     ]
    }
   ]
  },
  {
   "cell_type": "markdown",
   "metadata": {
    "id": "cn-jYXhzutTl"
   },
   "source": [
    "**8. Среди кого больше доля зарабатывающих много (>50K): среди женатых или холостых мужчин (признак *marital-status*)? Женатыми считаем тех, у кого *marital-status* начинается с *Married* (Married-civ-spouse, Married-spouse-absent или Married-AF-spouse), остальных считаем холостыми.**"
   ]
  },
  {
   "cell_type": "code",
   "metadata": {
    "collapsed": true,
    "id": "4hIQXgGAutTm",
    "ExecuteTime": {
     "end_time": "2024-03-08T08:50:05.911210600Z",
     "start_time": "2024-03-08T08:50:05.865554Z"
    }
   },
   "source": [
    "data[(data.sex == \"Male\") & (data.salary == \">50K\")].married.value_counts()"
   ],
   "execution_count": 173,
   "outputs": [
    {
     "data": {
      "text/plain": "married\nTrue     5965\nFalse     697\nName: count, dtype: int64"
     },
     "execution_count": 173,
     "metadata": {},
     "output_type": "execute_result"
    }
   ]
  },
  {
   "cell_type": "markdown",
   "metadata": {
    "id": "Rsh8YvoXutTm"
   },
   "source": [
    "**9. Какое максимальное число часов человек работает в неделю (признак *hours-per-week*)? Сколько людей работают такое количество часов и каков среди них процент зарабатывающих много?**"
   ]
  },
  {
   "cell_type": "code",
   "metadata": {
    "collapsed": true,
    "id": "RK1JQSIZutTn",
    "ExecuteTime": {
     "end_time": "2024-03-08T08:57:58.722669500Z",
     "start_time": "2024-03-08T08:57:58.705659400Z"
    }
   },
   "source": [
    "max_hours = data['hours-per-week'].max()\n",
    "df = data[data['hours-per-week'] == max_hours]\n",
    "hard_workers_count = len(df)\n",
    "big_salary_count = len(df[df.salary == '>50K'])\n",
    "print(round(big_salary_count / hard_workers_count * 100, 2), '%')"
   ],
   "execution_count": 202,
   "outputs": [
    {
     "name": "stdout",
     "output_type": "stream",
     "text": [
      "29.41 %\n"
     ]
    }
   ]
  },
  {
   "cell_type": "markdown",
   "metadata": {
    "id": "kUXV84AjutTn"
   },
   "source": [
    "**10. Посчитайте среднее время работы (*hours-per-week*) зарабатывающих мало и много (*salary*) для каждой страны (*native-country*).**"
   ]
  },
  {
   "cell_type": "code",
   "metadata": {
    "collapsed": true,
    "id": "3gzYG3CDutTn",
    "ExecuteTime": {
     "end_time": "2024-03-08T09:08:43.051886Z",
     "start_time": "2024-03-08T09:08:43.036343500Z"
    }
   },
   "source": [
    "columns_to_show = [\"hours-per-week\"]\n",
    "\n",
    "data.groupby([\"native-country\", \"salary\"], as_index=False)[columns_to_show].mean()"
   ],
   "execution_count": 250,
   "outputs": [
    {
     "data": {
      "text/plain": "   native-country salary  hours-per-week\n0               ?  <=50K       40.164760\n1               ?   >50K       45.547945\n2        Cambodia  <=50K       41.416667\n3        Cambodia   >50K       40.000000\n4          Canada  <=50K       37.914634\n..            ...    ...             ...\n77  United-States   >50K       45.505369\n78        Vietnam  <=50K       37.193548\n79        Vietnam   >50K       39.200000\n80     Yugoslavia  <=50K       41.600000\n81     Yugoslavia   >50K       49.500000\n\n[82 rows x 3 columns]",
      "text/html": "<div>\n<style scoped>\n    .dataframe tbody tr th:only-of-type {\n        vertical-align: middle;\n    }\n\n    .dataframe tbody tr th {\n        vertical-align: top;\n    }\n\n    .dataframe thead th {\n        text-align: right;\n    }\n</style>\n<table border=\"1\" class=\"dataframe\">\n  <thead>\n    <tr style=\"text-align: right;\">\n      <th></th>\n      <th>native-country</th>\n      <th>salary</th>\n      <th>hours-per-week</th>\n    </tr>\n  </thead>\n  <tbody>\n    <tr>\n      <th>0</th>\n      <td>?</td>\n      <td>&lt;=50K</td>\n      <td>40.164760</td>\n    </tr>\n    <tr>\n      <th>1</th>\n      <td>?</td>\n      <td>&gt;50K</td>\n      <td>45.547945</td>\n    </tr>\n    <tr>\n      <th>2</th>\n      <td>Cambodia</td>\n      <td>&lt;=50K</td>\n      <td>41.416667</td>\n    </tr>\n    <tr>\n      <th>3</th>\n      <td>Cambodia</td>\n      <td>&gt;50K</td>\n      <td>40.000000</td>\n    </tr>\n    <tr>\n      <th>4</th>\n      <td>Canada</td>\n      <td>&lt;=50K</td>\n      <td>37.914634</td>\n    </tr>\n    <tr>\n      <th>...</th>\n      <td>...</td>\n      <td>...</td>\n      <td>...</td>\n    </tr>\n    <tr>\n      <th>77</th>\n      <td>United-States</td>\n      <td>&gt;50K</td>\n      <td>45.505369</td>\n    </tr>\n    <tr>\n      <th>78</th>\n      <td>Vietnam</td>\n      <td>&lt;=50K</td>\n      <td>37.193548</td>\n    </tr>\n    <tr>\n      <th>79</th>\n      <td>Vietnam</td>\n      <td>&gt;50K</td>\n      <td>39.200000</td>\n    </tr>\n    <tr>\n      <th>80</th>\n      <td>Yugoslavia</td>\n      <td>&lt;=50K</td>\n      <td>41.600000</td>\n    </tr>\n    <tr>\n      <th>81</th>\n      <td>Yugoslavia</td>\n      <td>&gt;50K</td>\n      <td>49.500000</td>\n    </tr>\n  </tbody>\n</table>\n<p>82 rows × 3 columns</p>\n</div>"
     },
     "execution_count": 250,
     "metadata": {},
     "output_type": "execute_result"
    }
   ]
  },
  {
   "cell_type": "markdown",
   "source": [
    "# Олимпийские игры"
   ],
   "metadata": {
    "id": "6s-jSUPAGxW4"
   }
  },
  {
   "cell_type": "markdown",
   "metadata": {
    "id": "EmV0s8YY05p7"
   },
   "source": [
    "- __ID__ - Unique number for each athlete\n",
    "- __Name__ - Athlete's name\n",
    "- __Sex__ - M or F\n",
    "- __Age__ - Integer\n",
    "- __Height__ - In centimeters\n",
    "- __Weight__ - In kilograms\n",
    "- __Team__ - Team name\n",
    "- __NOC__ - National Olympic Committee 3-letter code\n",
    "- __Games__ - Year and season\n",
    "- __Year__ - Integer\n",
    "- __Season__ - Summer or Winter\n",
    "- __City__ - Host city\n",
    "- __Sport__ - Sport\n",
    "- __Event__ - Event\n",
    "- __Medal__ - Gold, Silver, Bronze, or NA"
   ]
  },
  {
   "cell_type": "code",
   "metadata": {
    "id": "rVCrMDMh05p_",
    "ExecuteTime": {
     "end_time": "2024-03-08T09:09:02.681588100Z",
     "start_time": "2024-03-08T09:09:02.672055400Z"
    }
   },
   "source": [
    "import pandas as pd"
   ],
   "execution_count": 251,
   "outputs": []
  },
  {
   "cell_type": "code",
   "metadata": {
    "id": "D5Q4Z-JW05qC",
    "ExecuteTime": {
     "end_time": "2024-03-08T09:09:03.457459Z",
     "start_time": "2024-03-08T09:09:03.446938700Z"
    }
   },
   "source": [
    "# не меняем путь!\n",
    "PATH = 'https://github.com/aksenov7/Kaggle_competition_group/blob/master/athlete_events.csv.zip?raw=true'"
   ],
   "execution_count": 252,
   "outputs": []
  },
  {
   "cell_type": "markdown",
   "metadata": {
    "id": "mI0LtqkY4Kp-"
   },
   "source": [
    "# __0. Откройте файл используя необходимые параметры и не меняя переменную PATH__"
   ]
  },
  {
   "cell_type": "code",
   "metadata": {
    "id": "h5SQwBLr05qG",
    "colab": {
     "base_uri": "https://localhost:8080/",
     "height": 206
    },
    "outputId": "882f9e83-5fd7-4c3b-b005-56917b15a0fd",
    "ExecuteTime": {
     "end_time": "2024-03-08T09:22:46.976342300Z",
     "start_time": "2024-03-08T09:22:44.567272300Z"
    }
   },
   "source": [
    "data = pd.read_csv(PATH, compression='zip')\n",
    "data.head(10)"
   ],
   "execution_count": 260,
   "outputs": [
    {
     "data": {
      "text/plain": "   ID                      Name Sex   Age  Height  Weight            Team  \\\n0   1                 A Dijiang   M  24.0   180.0    80.0           China   \n1   2                  A Lamusi   M  23.0   170.0    60.0           China   \n2   3       Gunnar Nielsen Aaby   M  24.0     NaN     NaN         Denmark   \n3   4      Edgar Lindenau Aabye   M  34.0     NaN     NaN  Denmark/Sweden   \n4   5  Christine Jacoba Aaftink   F  21.0   185.0    82.0     Netherlands   \n5   5  Christine Jacoba Aaftink   F  21.0   185.0    82.0     Netherlands   \n6   5  Christine Jacoba Aaftink   F  25.0   185.0    82.0     Netherlands   \n7   5  Christine Jacoba Aaftink   F  25.0   185.0    82.0     Netherlands   \n8   5  Christine Jacoba Aaftink   F  27.0   185.0    82.0     Netherlands   \n9   5  Christine Jacoba Aaftink   F  27.0   185.0    82.0     Netherlands   \n\n   NOC        Games  Year  Season         City          Sport  \\\n0  CHN  1992 Summer  1992  Summer    Barcelona     Basketball   \n1  CHN  2012 Summer  2012  Summer       London           Judo   \n2  DEN  1920 Summer  1920  Summer    Antwerpen       Football   \n3  DEN  1900 Summer  1900  Summer        Paris     Tug-Of-War   \n4  NED  1988 Winter  1988  Winter      Calgary  Speed Skating   \n5  NED  1988 Winter  1988  Winter      Calgary  Speed Skating   \n6  NED  1992 Winter  1992  Winter  Albertville  Speed Skating   \n7  NED  1992 Winter  1992  Winter  Albertville  Speed Skating   \n8  NED  1994 Winter  1994  Winter  Lillehammer  Speed Skating   \n9  NED  1994 Winter  1994  Winter  Lillehammer  Speed Skating   \n\n                                Event Medal  \n0         Basketball Men's Basketball   NaN  \n1        Judo Men's Extra-Lightweight   NaN  \n2             Football Men's Football   NaN  \n3         Tug-Of-War Men's Tug-Of-War  Gold  \n4    Speed Skating Women's 500 metres   NaN  \n5  Speed Skating Women's 1,000 metres   NaN  \n6    Speed Skating Women's 500 metres   NaN  \n7  Speed Skating Women's 1,000 metres   NaN  \n8    Speed Skating Women's 500 metres   NaN  \n9  Speed Skating Women's 1,000 metres   NaN  ",
      "text/html": "<div>\n<style scoped>\n    .dataframe tbody tr th:only-of-type {\n        vertical-align: middle;\n    }\n\n    .dataframe tbody tr th {\n        vertical-align: top;\n    }\n\n    .dataframe thead th {\n        text-align: right;\n    }\n</style>\n<table border=\"1\" class=\"dataframe\">\n  <thead>\n    <tr style=\"text-align: right;\">\n      <th></th>\n      <th>ID</th>\n      <th>Name</th>\n      <th>Sex</th>\n      <th>Age</th>\n      <th>Height</th>\n      <th>Weight</th>\n      <th>Team</th>\n      <th>NOC</th>\n      <th>Games</th>\n      <th>Year</th>\n      <th>Season</th>\n      <th>City</th>\n      <th>Sport</th>\n      <th>Event</th>\n      <th>Medal</th>\n    </tr>\n  </thead>\n  <tbody>\n    <tr>\n      <th>0</th>\n      <td>1</td>\n      <td>A Dijiang</td>\n      <td>M</td>\n      <td>24.0</td>\n      <td>180.0</td>\n      <td>80.0</td>\n      <td>China</td>\n      <td>CHN</td>\n      <td>1992 Summer</td>\n      <td>1992</td>\n      <td>Summer</td>\n      <td>Barcelona</td>\n      <td>Basketball</td>\n      <td>Basketball Men's Basketball</td>\n      <td>NaN</td>\n    </tr>\n    <tr>\n      <th>1</th>\n      <td>2</td>\n      <td>A Lamusi</td>\n      <td>M</td>\n      <td>23.0</td>\n      <td>170.0</td>\n      <td>60.0</td>\n      <td>China</td>\n      <td>CHN</td>\n      <td>2012 Summer</td>\n      <td>2012</td>\n      <td>Summer</td>\n      <td>London</td>\n      <td>Judo</td>\n      <td>Judo Men's Extra-Lightweight</td>\n      <td>NaN</td>\n    </tr>\n    <tr>\n      <th>2</th>\n      <td>3</td>\n      <td>Gunnar Nielsen Aaby</td>\n      <td>M</td>\n      <td>24.0</td>\n      <td>NaN</td>\n      <td>NaN</td>\n      <td>Denmark</td>\n      <td>DEN</td>\n      <td>1920 Summer</td>\n      <td>1920</td>\n      <td>Summer</td>\n      <td>Antwerpen</td>\n      <td>Football</td>\n      <td>Football Men's Football</td>\n      <td>NaN</td>\n    </tr>\n    <tr>\n      <th>3</th>\n      <td>4</td>\n      <td>Edgar Lindenau Aabye</td>\n      <td>M</td>\n      <td>34.0</td>\n      <td>NaN</td>\n      <td>NaN</td>\n      <td>Denmark/Sweden</td>\n      <td>DEN</td>\n      <td>1900 Summer</td>\n      <td>1900</td>\n      <td>Summer</td>\n      <td>Paris</td>\n      <td>Tug-Of-War</td>\n      <td>Tug-Of-War Men's Tug-Of-War</td>\n      <td>Gold</td>\n    </tr>\n    <tr>\n      <th>4</th>\n      <td>5</td>\n      <td>Christine Jacoba Aaftink</td>\n      <td>F</td>\n      <td>21.0</td>\n      <td>185.0</td>\n      <td>82.0</td>\n      <td>Netherlands</td>\n      <td>NED</td>\n      <td>1988 Winter</td>\n      <td>1988</td>\n      <td>Winter</td>\n      <td>Calgary</td>\n      <td>Speed Skating</td>\n      <td>Speed Skating Women's 500 metres</td>\n      <td>NaN</td>\n    </tr>\n    <tr>\n      <th>5</th>\n      <td>5</td>\n      <td>Christine Jacoba Aaftink</td>\n      <td>F</td>\n      <td>21.0</td>\n      <td>185.0</td>\n      <td>82.0</td>\n      <td>Netherlands</td>\n      <td>NED</td>\n      <td>1988 Winter</td>\n      <td>1988</td>\n      <td>Winter</td>\n      <td>Calgary</td>\n      <td>Speed Skating</td>\n      <td>Speed Skating Women's 1,000 metres</td>\n      <td>NaN</td>\n    </tr>\n    <tr>\n      <th>6</th>\n      <td>5</td>\n      <td>Christine Jacoba Aaftink</td>\n      <td>F</td>\n      <td>25.0</td>\n      <td>185.0</td>\n      <td>82.0</td>\n      <td>Netherlands</td>\n      <td>NED</td>\n      <td>1992 Winter</td>\n      <td>1992</td>\n      <td>Winter</td>\n      <td>Albertville</td>\n      <td>Speed Skating</td>\n      <td>Speed Skating Women's 500 metres</td>\n      <td>NaN</td>\n    </tr>\n    <tr>\n      <th>7</th>\n      <td>5</td>\n      <td>Christine Jacoba Aaftink</td>\n      <td>F</td>\n      <td>25.0</td>\n      <td>185.0</td>\n      <td>82.0</td>\n      <td>Netherlands</td>\n      <td>NED</td>\n      <td>1992 Winter</td>\n      <td>1992</td>\n      <td>Winter</td>\n      <td>Albertville</td>\n      <td>Speed Skating</td>\n      <td>Speed Skating Women's 1,000 metres</td>\n      <td>NaN</td>\n    </tr>\n    <tr>\n      <th>8</th>\n      <td>5</td>\n      <td>Christine Jacoba Aaftink</td>\n      <td>F</td>\n      <td>27.0</td>\n      <td>185.0</td>\n      <td>82.0</td>\n      <td>Netherlands</td>\n      <td>NED</td>\n      <td>1994 Winter</td>\n      <td>1994</td>\n      <td>Winter</td>\n      <td>Lillehammer</td>\n      <td>Speed Skating</td>\n      <td>Speed Skating Women's 500 metres</td>\n      <td>NaN</td>\n    </tr>\n    <tr>\n      <th>9</th>\n      <td>5</td>\n      <td>Christine Jacoba Aaftink</td>\n      <td>F</td>\n      <td>27.0</td>\n      <td>185.0</td>\n      <td>82.0</td>\n      <td>Netherlands</td>\n      <td>NED</td>\n      <td>1994 Winter</td>\n      <td>1994</td>\n      <td>Winter</td>\n      <td>Lillehammer</td>\n      <td>Speed Skating</td>\n      <td>Speed Skating Women's 1,000 metres</td>\n      <td>NaN</td>\n    </tr>\n  </tbody>\n</table>\n</div>"
     },
     "execution_count": 260,
     "metadata": {},
     "output_type": "execute_result"
    }
   ]
  },
  {
   "cell_type": "markdown",
   "metadata": {
    "id": "stYR4EbV05qP"
   },
   "source": [
    "__1. Сколько лет было самым молодым мужчинам и женщинам-участникам Олимпийских игр 1992 года ?__\n",
    "- 16 и 15\n",
    "- 14 и 13\n",
    "- 13 и 11\n",
    "- 11 и 12"
   ]
  },
  {
   "cell_type": "code",
   "metadata": {
    "id": "HgiqBXtb05qR",
    "ExecuteTime": {
     "end_time": "2024-03-08T09:27:38.168780700Z",
     "start_time": "2024-03-08T09:27:38.145452Z"
    }
   },
   "source": [
    "data[data.Year == 1992].drop_duplicates(subset=['ID']).groupby(['Sex'])['Age'].min()"
   ],
   "execution_count": 279,
   "outputs": [
    {
     "data": {
      "text/plain": "Sex\nF    12.0\nM    11.0\nName: Age, dtype: float64"
     },
     "execution_count": 279,
     "metadata": {},
     "output_type": "execute_result"
    }
   ]
  },
  {
   "cell_type": "markdown",
   "metadata": {
    "id": "GQ290dsi05qc"
   },
   "source": [
    "__2. Каков был процент баскетболистов-мужчин среди всех мужчин-участников Олимпийских игр 2012 года? Округлите ответ до первого десятичного знака.__\n",
    "\n",
    "Здесь и далее при необходимости отбрасывайте дублированных спортсменов, чтобы считать только уникальных .\n",
    "- 0.2\n",
    "- 1.5\n",
    "- 2.5\n",
    "- 7.7"
   ]
  },
  {
   "cell_type": "code",
   "metadata": {
    "id": "-fI5MqWP05qi",
    "ExecuteTime": {
     "end_time": "2024-03-08T09:32:31.137475900Z",
     "start_time": "2024-03-08T09:32:31.076032800Z"
    }
   },
   "source": [
    "df = data[(data.Year == 2012) & (data.Sex == \"M\")].drop_duplicates(subset=['ID'])\n",
    "round(df.Sport.value_counts().loc['Basketball'] / len(df) * 100, 1)"
   ],
   "execution_count": 291,
   "outputs": [
    {
     "data": {
      "text/plain": "2.5"
     },
     "execution_count": 291,
     "metadata": {},
     "output_type": "execute_result"
    }
   ]
  },
  {
   "cell_type": "markdown",
   "metadata": {
    "id": "u5WrTgIC05qv"
   },
   "source": [
    "__3. Каковы среднее и стандартное отклонение роста теннисисток, участвовавших в Олимпийских играх 2000 года? Округлите ответ до первого десятичного знака.__\n",
    "\n",
    "- 171.8 и 6.5\n",
    "- 179.4 и 10\n",
    "- 180.7 и 6.7\n",
    "- 182.4 и 9.1"
   ]
  },
  {
   "cell_type": "code",
   "metadata": {
    "id": "vsKTqn6405qw",
    "ExecuteTime": {
     "end_time": "2024-03-08T09:36:15.143125700Z",
     "start_time": "2024-03-08T09:36:15.081349100Z"
    }
   },
   "source": [
    "df = data[(data.Year == 2000) & (data.Sex == \"F\") & (data.Sport == \"Tennis\")].drop_duplicates(subset=['ID'])\n",
    "round(df.Height.describe(), 1)"
   ],
   "execution_count": 306,
   "outputs": [
    {
     "data": {
      "text/plain": "count     88.0\nmean     171.8\nstd        6.6\nmin      150.0\n25%      168.0\n50%      172.0\n75%      176.0\nmax      191.0\nName: Height, dtype: float64"
     },
     "execution_count": 306,
     "metadata": {},
     "output_type": "execute_result"
    }
   ]
  },
  {
   "cell_type": "markdown",
   "metadata": {
    "id": "xOOEzhNQ05qy"
   },
   "source": [
    "__4. Найдите спортсмена, который участвовал в Олимпийских играх 2006 года, с наибольшим весом среди других участников той же Олимпиады. Каким спортом он или она занимался?__\n",
    "\n",
    "- Judo\n",
    "- Bobsleigh\n",
    "- Skeleton\n",
    "- Boxing"
   ]
  },
  {
   "cell_type": "code",
   "metadata": {
    "id": "EkWD1Tnb05qz",
    "ExecuteTime": {
     "end_time": "2024-03-08T09:41:27.667148200Z",
     "start_time": "2024-03-08T09:41:27.629487600Z"
    }
   },
   "source": [
    "df = data[(data.Year == 2006)]\n",
    "max_weight = df.Weight.max()\n",
    "df[df.Weight == max_weight].Sport"
   ],
   "execution_count": 318,
   "outputs": [
    {
     "data": {
      "text/plain": "8102    Skeleton\nName: Sport, dtype: object"
     },
     "execution_count": 318,
     "metadata": {},
     "output_type": "execute_result"
    }
   ]
  },
  {
   "cell_type": "markdown",
   "metadata": {
    "id": "UQzxZ3HT05q0"
   },
   "source": [
    "__5. Сколько раз John Aalberg участвовал в Олимпийских играх в разные годы?__\n",
    "\n",
    "Один год - это один раз. Неважно сколько участий внутри одного года\n",
    "- 0\n",
    "- 1\n",
    "- 2\n",
    "- 3"
   ]
  },
  {
   "cell_type": "code",
   "metadata": {
    "id": "ZSfkdjPO05q0",
    "ExecuteTime": {
     "end_time": "2024-03-08T09:42:40.559808500Z",
     "start_time": "2024-03-08T09:42:40.547398400Z"
    }
   },
   "source": [
    "df = data[(data.Name == \"John Aalberg\")].drop_duplicates(subset=['Year'])\n",
    "len(df)"
   ],
   "execution_count": 324,
   "outputs": [
    {
     "data": {
      "text/plain": "2"
     },
     "execution_count": 324,
     "metadata": {},
     "output_type": "execute_result"
    }
   ]
  },
  {
   "cell_type": "markdown",
   "metadata": {
    "id": "8EnLcNrk05q3"
   },
   "source": [
    "__6. Сколько золотых медалей по теннису выиграли спортсмены сборной Switzerland на Олимпиаде-2008? Считайте каждую медаль от каждого спортсмена.__\n",
    "\n",
    "- 0\n",
    "- 1\n",
    "- 2\n",
    "- 3"
   ]
  },
  {
   "cell_type": "code",
   "metadata": {
    "id": "Y754OGI-05q3",
    "ExecuteTime": {
     "end_time": "2024-03-08T09:47:04.322836900Z",
     "start_time": "2024-03-08T09:47:04.282195700Z"
    }
   },
   "source": [
    "df = data[(data.Sport == \"Tennis\") & (data.Year == 2008) & (data.Medal == \"Gold\") & (\n",
    "            data.Team == \"Switzerland\")].drop_duplicates(subset=['ID'])\n",
    "len(df)"
   ],
   "execution_count": 339,
   "outputs": [
    {
     "data": {
      "text/plain": "2"
     },
     "execution_count": 339,
     "metadata": {},
     "output_type": "execute_result"
    }
   ]
  },
  {
   "cell_type": "markdown",
   "metadata": {
    "id": "v3h5sQF805q5"
   },
   "source": [
    "__7. Правда ли, что на Олимпийских играх 2016 Spain выиграла меньше медалей, чем Италия?__\n",
    "\n",
    "- Да\n",
    "- Нет"
   ]
  },
  {
   "cell_type": "code",
   "metadata": {
    "id": "gqJqDi2605q7",
    "ExecuteTime": {
     "end_time": "2024-03-08T09:51:05.313185200Z",
     "start_time": "2024-03-08T09:51:05.236166900Z"
    }
   },
   "source": [
    "df = data[(data.Year == 2016) & data.Medal & (data.Team == \"Spain\")]\n",
    "print(\"Spain: \", len(df))\n",
    "df = data[(data.Year == 2016) & data.Medal & (data.Team == \"Italy\")]\n",
    "print(\"Italy: \", len(df))\n",
    "print(\"Da\")"
   ],
   "execution_count": 354,
   "outputs": [
    {
     "name": "stdout",
     "output_type": "stream",
     "text": [
      "Spain:  43\n",
      "Italy:  70\n",
      "Da\n"
     ]
    }
   ]
  },
  {
   "cell_type": "markdown",
   "metadata": {
    "id": "kkSYL5mK05q-"
   },
   "source": [
    "__8. К какой возрастной категории принадлежало наименьшее и наибольшее количество участников Олимпиады-2008?__\n",
    "\n",
    "- [45-55] и [25-35) соответственно\n",
    "+ [45-55] и [15-25) соответственно\n",
    "- [35-45) и [25-35) соответственно\n",
    "- [45-55] и [35-45) соответственно"
   ]
  },
  {
   "cell_type": "code",
   "metadata": {
    "id": "pMAQtW7i05q_",
    "ExecuteTime": {
     "end_time": "2024-03-08T09:58:44.124279100Z",
     "start_time": "2024-03-08T09:58:44.100172300Z"
    }
   },
   "source": [
    "df = data[(data.Year == 2008)].drop_duplicates(subset=['ID'])\n",
    "pd.cut(df.Age, bins=[15,25,35,45,55]).value_counts()"
   ],
   "execution_count": 366,
   "outputs": [
    {
     "data": {
      "text/plain": "Age\n(15, 25]    5627\n(25, 35]    4666\n(35, 45]     486\n(45, 55]      60\nName: count, dtype: int64"
     },
     "execution_count": 366,
     "metadata": {},
     "output_type": "execute_result"
    }
   ]
  },
  {
   "cell_type": "markdown",
   "metadata": {
    "id": "JQmJPiXv05rB"
   },
   "source": [
    "__9. Правда ли, что в Atlanta проводились летние Олимпийские игры? Правда ли, что в Squaw Valley проводились зимние Олимпийские игры? ?__\n",
    "\n",
    "- Да, Да\n",
    "- Да, Нет\n",
    "- Нет, Да\n",
    "- Нет, Нет"
   ]
  },
  {
   "cell_type": "code",
   "metadata": {
    "id": "UU66wRHC05rB",
    "ExecuteTime": {
     "end_time": "2024-03-08T10:01:44.821413600Z",
     "start_time": "2024-03-08T10:01:44.779354100Z"
    }
   },
   "source": [
    "df = data[(data.City == \"Atlanta\") & (data.Season==\"Summer\")]\n",
    "if len(df)>0:\n",
    "    print(\"In Atlanta was Summer Olympic\")\n",
    "df = data[(data.City == \"Squaw Valley\") & (data.Season==\"Winter\")]\n",
    "if len(df)>0:\n",
    "    print(\"In Squaw Valley was Winter Olympic\")"
   ],
   "execution_count": 373,
   "outputs": [
    {
     "name": "stdout",
     "output_type": "stream",
     "text": [
      "In Atlanta was Summer Olympic\n",
      "In Squaw Valley was Winter Olympic\n"
     ]
    }
   ]
  },
  {
   "cell_type": "markdown",
   "metadata": {
    "id": "4hxR5D-t05rF"
   },
   "source": [
    "__10. Какова абсолютная разница между количеством уникальных видов спорта на Олимпиаде 1986 года и Олимпиаде 2002 года?__\n",
    "\n",
    "- 3\n",
    "- 10\n",
    "- 15\n",
    "- 27"
   ]
  },
  {
   "cell_type": "code",
   "metadata": {
    "id": "WKIr-TR105rF",
    "ExecuteTime": {
     "end_time": "2024-03-08T10:13:05.279213100Z",
     "start_time": "2024-03-08T10:13:05.258436400Z"
    }
   },
   "source": [
    "df = data[(data.Year==1986)].drop_duplicates(subset=['Sport'])\n",
    "a = len(df)\n",
    "df = data[(data.Year==2002)].drop_duplicates(subset=['Sport'])\n",
    "b = len(df)\n",
    "abs(a-b) "
   ],
   "execution_count": 393,
   "outputs": [
    {
     "data": {
      "text/plain": "15"
     },
     "execution_count": 393,
     "metadata": {},
     "output_type": "execute_result"
    }
   ]
  },
  {
   "cell_type": "code",
   "outputs": [],
   "source": [],
   "metadata": {
    "collapsed": false
   }
  }
 ]
}
