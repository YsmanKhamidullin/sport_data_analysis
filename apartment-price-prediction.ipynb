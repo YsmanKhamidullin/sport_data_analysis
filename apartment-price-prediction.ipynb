{
 "metadata": {
  "kernelspec": {
   "language": "python",
   "display_name": "Python 3",
   "name": "python3"
  },
  "language_info": {
   "name": "python",
   "version": "3.10.13",
   "mimetype": "text/x-python",
   "codemirror_mode": {
    "name": "ipython",
    "version": 3
   },
   "pygments_lexer": "ipython3",
   "nbconvert_exporter": "python",
   "file_extension": ".py"
  },
  "kaggle": {
   "accelerator": "none",
   "dataSources": [
    {
     "sourceId": 49163,
     "databundleVersionId": 5192420,
     "sourceType": "competition"
    }
   ],
   "dockerImageVersionId": 30664,
   "isInternetEnabled": true,
   "language": "python",
   "sourceType": "notebook",
   "isGpuEnabled": false
  }
 },
 "nbformat_minor": 4,
 "nbformat": 4,
 "cells": [
  {
   "cell_type": "markdown",
   "source": [
    "Блокнот с решением должен иметь следующую структуру:\n",
    "\n",
    "1. EDA (предварительный анализ данных): общее представление о данных, поиск и исправление ошибок, заполнение пропусков, анализ выбросов. Просьба не просто выводить цифры и графики, а писать понятные комментарии\n",
    "\n",
    "2. Создание новых признаков и модификация существующих (если необходимо)\n",
    "\n",
    "3. Применение модели\n",
    "\n",
    "4. Анализ результатов: какие модели оказались лучше (если было больше 1-й), какие признаки оказали наибольшее влияние на результат\n",
    "\n",
    "5. Улучшение качества (если есть необходимость): применение новых признаков, моделей, перебор гиперпараметров\n",
    "\n",
    "Не забудьте сохранить файл sample_submission.csv, сохранить блокнот с решением (Save Version -> Save) и выполнить Submit решения (блокнот в режиме просмотра -> Output -> Submit)\n",
    "\n",
    "После этого вы должны видеть свои результаты на LeaderBoard\n",
    "\n",
    "Used https://www.kaggle.com/code/bertcarremans/data-preparation-exploration"
   ],
   "metadata": {}
  },
  {
   "cell_type": "markdown",
   "source": [
    "# Считывание и подготовка данных для анализа"
   ],
   "metadata": {}
  },
  {
   "cell_type": "code",
   "source": [
    "import numpy as np # linear algebra\n",
    "import pandas as pd # data processing, CSV file I/O (e.g. pd.read_csv)\n",
    "import matplotlib.pyplot as plt\n",
    "import seaborn as sns"
   ],
   "metadata": {
    "_uuid": "8f2839f25d086af736a60e9eeb907d3b93b6e0e5",
    "_cell_guid": "b1076dfc-b9ad-4769-8c92-a6c4dae69d19",
    "execution": {
     "iopub.status.busy": "2024-03-09T07:51:59.993779Z",
     "iopub.execute_input": "2024-03-09T07:51:59.994433Z"
    },
    "trusted": true
   },
   "execution_count": null,
   "outputs": []
  },
  {
   "cell_type": "code",
   "source": [
    "import os\n",
    "for dirname, _, filenames in os.walk('/kaggle/input'):\n",
    "    for filename in filenames:\n",
    "        print(os.path.join(dirname, filename))"
   ],
   "metadata": {
    "trusted": true
   },
   "execution_count": null,
   "outputs": []
  },
  {
   "cell_type": "code",
   "source": [
    "train = pd.read_csv('/kaggle/input/ubrr-ds/train.csv') # Train Data\n",
    "train.head()"
   ],
   "metadata": {
    "trusted": true
   },
   "execution_count": null,
   "outputs": []
  },
  {
   "cell_type": "code",
   "source": [
    "test = pd.read_csv('/kaggle/input/ubrr-ds/test.csv') # Test Data\n",
    "test.head()"
   ],
   "metadata": {
    "trusted": true
   },
   "execution_count": null,
   "outputs": []
  },
  {
   "cell_type": "code",
   "source": [
    "macro = pd.read_csv('/kaggle/input/ubrr-ds/macro.csv') # Additional data\n",
    "macro.head()"
   ],
   "metadata": {
    "trusted": true
   },
   "execution_count": null,
   "outputs": []
  },
  {
   "cell_type": "code",
   "source": [
    "print(\"Train Shape: \",train.shape)\n",
    "print(\"Test Shape: \",test.shape)\n",
    "concat_df = pd.concat([train, test], axis=0)\n",
    "print(\"Concat Shape: \",concat_df.shape)\n",
    "concat_df.head()"
   ],
   "metadata": {
    "trusted": true
   },
   "execution_count": null,
   "outputs": []
  },
  {
   "cell_type": "code",
   "source": [
    "print(\"Concat keys: \", concat_df.columns.values)\n",
    "print(\"Macro keys: \", macro.columns.values)\n",
    "print(\"macro shape: \", macro.shape)\n",
    "print(\"concat_ds shape: \", concat_df.shape)"
   ],
   "metadata": {
    "trusted": true
   },
   "execution_count": null,
   "outputs": []
  },
  {
   "cell_type": "code",
   "source": [
    "analyze_df = concat_df.merge(macro, on='timestamp', how='inner')\n",
    "analyze_df.head()"
   ],
   "metadata": {
    "trusted": true
   },
   "execution_count": null,
   "outputs": []
  },
  {
   "cell_type": "markdown",
   "source": [
    "# 1. EDA (предварительный анализ данных)"
   ],
   "metadata": {}
  },
  {
   "cell_type": "markdown",
   "source": [
    "Подготовим данные для анализа"
   ],
   "metadata": {}
  },
  {
   "cell_type": "code",
   "source": [
    "analyze_df = concat_df.merge(macro, on='timestamp', how='inner')\n",
    "analyze_df.head()"
   ],
   "metadata": {
    "trusted": true
   },
   "execution_count": null,
   "outputs": []
  },
  {
   "cell_type": "code",
   "source": [
    "analyze_df.info()"
   ],
   "metadata": {
    "trusted": true
   },
   "execution_count": null,
   "outputs": []
  },
  {
   "cell_type": "code",
   "source": [
    "analyze_df.describe()"
   ],
   "metadata": {
    "trusted": true
   },
   "execution_count": null,
   "outputs": []
  },
  {
   "cell_type": "code",
   "source": [
    "cols = analyze_df.columns[:30] # первые 30 колонок\n",
    "# определяем цвета \n",
    "# желтый - пропущенные данные, синий - не пропущенные\n",
    "colours = ['#000099', '#ffff00'] \n",
    "sns.heatmap(analyze_df[cols].isnull(), cmap=sns.color_palette(colours))"
   ],
   "metadata": {
    "trusted": true
   },
   "execution_count": null,
   "outputs": []
  },
  {
   "cell_type": "markdown",
   "source": [
    "Рассмотрим NaN values для каждого столбца. Исправим значения, позже.\n",
    "\n",
    "price_doc это наш target, поэтому можем не засчитывать его NaN как ошибку"
   ],
   "metadata": {}
  },
  {
   "cell_type": "code",
   "source": [
    "def analyze_nans():\n",
    "    vars_with_missing = []\n",
    "\n",
    "    for f in analyze_df.columns:\n",
    "        missings = analyze_df[analyze_df[f].isna()].shape[0]\n",
    "        if missings > 0:\n",
    "            vars_with_missing.append(f)\n",
    "            missings_perc = missings/analyze_df.shape[0]\n",
    "\n",
    "            print('Variable {} has {} records ({:.2%}) with missing values'.format(f, missings, missings_perc))\n",
    "\n",
    "    print('In total, there are {} variables with missing values'.format(len(vars_with_missing)))\n",
    "analyze_nans()"
   ],
   "metadata": {
    "trusted": true
   },
   "execution_count": null,
   "outputs": []
  },
  {
   "cell_type": "markdown",
   "source": [
    "* Рассмотрим столбец timestamp"
   ],
   "metadata": {}
  },
  {
   "cell_type": "code",
   "source": [
    "analyze_df.timestamp"
   ],
   "metadata": {
    "trusted": true
   },
   "execution_count": null,
   "outputs": []
  },
  {
   "cell_type": "markdown",
   "source": [
    "Исправим тип столбца"
   ],
   "metadata": {}
  },
  {
   "cell_type": "code",
   "source": [
    "analyze_df.timestamp = pd.to_datetime(analyze_df.timestamp)\n",
    "analyze_df.timestamp"
   ],
   "metadata": {
    "trusted": true
   },
   "execution_count": null,
   "outputs": []
  },
  {
   "cell_type": "markdown",
   "source": [
    "* Рассмотрим столбцы full_sq, life_sq и kitch_sq отвечающие за размер квартиры"
   ],
   "metadata": {}
  },
  {
   "cell_type": "code",
   "source": [
    "show_columns = ['full_sq','life_sq','kitch_sq']\n",
    "analyze_df[show_columns].describe()"
   ],
   "metadata": {
    "trusted": true
   },
   "execution_count": null,
   "outputs": []
  },
  {
   "cell_type": "markdown",
   "source": [
    "Все 3 признака имеют выбросы, это можно заметить сравнив максимальные значения и 75% квартель. Также можно посмотреть на минимальное значение, размер не может равняться 0"
   ],
   "metadata": {}
  },
  {
   "cell_type": "code",
   "source": [
    "analyze_df[show_columns].info()"
   ],
   "metadata": {
    "trusted": true
   },
   "execution_count": null,
   "outputs": []
  },
  {
   "cell_type": "markdown",
   "source": [
    "Колонки life_sq и kitch_sq содержат NaN\n",
    "\n",
    "Заполним все NaN нулями"
   ],
   "metadata": {}
  },
  {
   "cell_type": "code",
   "source": [
    "analyze_df['life_sq'] = analyze_df['life_sq'].fillna(0.0)\n",
    "analyze_df['kitch_sq'] = analyze_df['kitch_sq'].fillna(0.0)\n",
    "analyze_df[show_columns].describe()"
   ],
   "metadata": {
    "trusted": true
   },
   "execution_count": null,
   "outputs": []
  },
  {
   "cell_type": "markdown",
   "source": [
    "* Рассмотрим floor и max_floor"
   ],
   "metadata": {}
  },
  {
   "cell_type": "code",
   "source": [
    "analyze_df[['floor','max_floor']].dropna().sort_values(by='floor')"
   ],
   "metadata": {
    "trusted": true
   },
   "execution_count": null,
   "outputs": []
  },
  {
   "cell_type": "markdown",
   "source": [
    "Имеются неверные данные. Этаж не может быть больше чем максимальный этаж."
   ],
   "metadata": {}
  },
  {
   "cell_type": "code",
   "source": [
    "analyze_df[['floor','max_floor']].dropna().sort_values(by='floor').describe()"
   ],
   "metadata": {
    "trusted": true
   },
   "execution_count": null,
   "outputs": []
  },
  {
   "cell_type": "markdown",
   "source": [
    "Видно выбросы. Разница между 75% и max слишком большая"
   ],
   "metadata": {}
  },
  {
   "cell_type": "markdown",
   "source": [
    "Заполним na медианными значениями."
   ],
   "metadata": {}
  },
  {
   "cell_type": "code",
   "source": [
    "analyze_df[['floor','max_floor']] = analyze_df[['floor','max_floor']].fillna(analyze_df[['floor','max_floor']].median())"
   ],
   "metadata": {
    "trusted": true
   },
   "execution_count": null,
   "outputs": []
  },
  {
   "cell_type": "markdown",
   "source": [
    "* Рассмотрим state\n",
    "\n",
    "Variable state has 3361 records (17.82%) with missing values"
   ],
   "metadata": {}
  },
  {
   "cell_type": "code",
   "source": [
    "analyze_df.state"
   ],
   "metadata": {
    "trusted": true
   },
   "execution_count": null,
   "outputs": []
  },
  {
   "cell_type": "code",
   "source": [
    "analyze_df.state.describe()"
   ],
   "metadata": {
    "trusted": true
   },
   "execution_count": null,
   "outputs": []
  },
  {
   "cell_type": "code",
   "source": [
    "analyze_df.state.value_counts()"
   ],
   "metadata": {
    "trusted": true
   },
   "execution_count": null,
   "outputs": []
  },
  {
   "cell_type": "code",
   "source": [
    "analyze_df.state.sort_values().dropna()"
   ],
   "metadata": {
    "trusted": true
   },
   "execution_count": null,
   "outputs": []
  },
  {
   "cell_type": "markdown",
   "source": [
    "Ошибки в столбце: Большой процент NaN, Единичный выброс."
   ],
   "metadata": {}
  },
  {
   "cell_type": "markdown",
   "source": [
    "Заполним NaN и выброс v."
   ],
   "metadata": {}
  },
  {
   "cell_type": "code",
   "source": [
    "analyze_df.state[analyze_df.state > 10] = analyze_df.state.quantile() \n",
    "analyze_df.state.fillna(analyze_df.state.mean())\n",
    "analyze_df.state.describe()"
   ],
   "metadata": {
    "trusted": true
   },
   "execution_count": null,
   "outputs": []
  },
  {
   "cell_type": "code",
   "source": [
    "analyze_df.state.value_counts()"
   ],
   "metadata": {
    "trusted": true
   },
   "execution_count": null,
   "outputs": []
  },
  {
   "cell_type": "markdown",
   "source": [
    "* Рассмотрим Material"
   ],
   "metadata": {}
  },
  {
   "cell_type": "code",
   "source": [
    "analyze_df.material"
   ],
   "metadata": {
    "trusted": true
   },
   "execution_count": null,
   "outputs": []
  },
  {
   "cell_type": "code",
   "source": [
    "analyze_df.material.value_counts()"
   ],
   "metadata": {
    "trusted": true
   },
   "execution_count": null,
   "outputs": []
  },
  {
   "cell_type": "code",
   "source": [
    "analyze_df.material.describe()"
   ],
   "metadata": {
    "trusted": true
   },
   "execution_count": null,
   "outputs": []
  },
  {
   "cell_type": "code",
   "source": [
    "analyze_df.material.info()"
   ],
   "metadata": {
    "trusted": true
   },
   "execution_count": null,
   "outputs": []
  },
  {
   "cell_type": "markdown",
   "source": [
    "Ошибки: Есть NaN. заменим на "
   ],
   "metadata": {}
  },
  {
   "cell_type": "code",
   "source": [],
   "metadata": {
    "trusted": true
   },
   "execution_count": null,
   "outputs": []
  },
  {
   "cell_type": "markdown",
   "source": [
    "2. Создание новых признаков и модификация существующих (если необходимо)"
   ],
   "metadata": {}
  },
  {
   "cell_type": "code",
   "source": [],
   "metadata": {
    "trusted": true
   },
   "execution_count": null,
   "outputs": []
  },
  {
   "cell_type": "markdown",
   "source": [
    "3. Применение модели"
   ],
   "metadata": {}
  },
  {
   "cell_type": "code",
   "source": [],
   "metadata": {},
   "execution_count": null,
   "outputs": []
  },
  {
   "cell_type": "markdown",
   "source": [
    "4. Анализ результатов: какие модели оказались лучше (если было больше 1-й), какие признаки оказали наибольшее влияние на результат"
   ],
   "metadata": {}
  },
  {
   "cell_type": "code",
   "source": [],
   "metadata": {},
   "execution_count": null,
   "outputs": []
  },
  {
   "cell_type": "markdown",
   "source": [
    "\n",
    "5. Улучшение качества (если есть необходимость): применение новых признаков, моделей, перебор гиперпараметров\n"
   ],
   "metadata": {}
  },
  {
   "cell_type": "code",
   "source": [],
   "metadata": {},
   "execution_count": null,
   "outputs": []
  },
  {
   "cell_type": "markdown",
   "source": [
    "Submission"
   ],
   "metadata": {}
  },
  {
   "cell_type": "code",
   "source": [
    "submission = pd.read_csv(\"/kaggle/input/ubrr-ds/submission.csv\")\n",
    "submission.head()"
   ],
   "metadata": {
    "trusted": true
   },
   "execution_count": null,
   "outputs": []
  },
  {
   "cell_type": "code",
   "source": [
    "# submission.to_csv(\"sample_submission.csv\", index=False)"
   ],
   "metadata": {
    "trusted": true
   },
   "execution_count": null,
   "outputs": []
  }
 ]
}
